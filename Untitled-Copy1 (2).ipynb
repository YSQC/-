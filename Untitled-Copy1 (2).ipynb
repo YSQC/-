{
 "cells": [
  {
   "cell_type": "code",
   "execution_count": 36,
   "metadata": {
    "uuid": "9f20d4ab-8b14-4b2f-a411-c9fe8270189a"
   },
   "outputs": [],
   "source": [
    "import pandas as pd\n",
    "import numpy as np\n",
    "import matplotlib.pyplot as plt\n",
    "import datetime\n",
    "from sklearn.preprocessing import StandardScaler\n",
    "from sklearn.metrics import accuracy_score, f1_score, roc_auc_score, log_loss\n",
    "from sklearn.preprocessing import MinMaxScaler\n",
    "from catboost import CatBoostRegressor,CatBoostClassifier\n",
    "import warnings\n",
    "from sklearn.model_selection import StratifiedKFold, KFold\n",
    "warnings.filterwarnings('ignore')\n",
    "from sklearn.metrics import roc_curve"
   ]
  },
  {
   "cell_type": "code",
   "execution_count": 37,
   "metadata": {
    "uuid": "0bb824b7-7ab2-4f95-9809-7c3319c0a334"
   },
   "outputs": [],
   "source": [
    "import pandas as pd\n",
    "import numpy as np\n",
    "import matplotlib.pyplot as plt\n",
    "import seaborn as sns\n",
    "import datetime\n",
    "from tqdm import tqdm\n",
    "from sklearn.preprocessing import LabelEncoder\n",
    "from sklearn.feature_selection import SelectKBest\n",
    "from sklearn.feature_selection import chi2\n",
    "from sklearn.preprocessing import MinMaxScaler\n",
    "import xgboost as xgb\n",
    "#import lightgbm as lgb\n",
    "from catboost import CatBoostRegressor\n",
    "import warnings\n",
    "from sklearn.model_selection import StratifiedKFold, KFold\n",
    "from sklearn.metrics import accuracy_score, f1_score, roc_auc_score, log_loss\n",
    "warnings.filterwarnings('ignore')\n",
    "#target encoding \n",
    "from category_encoders.target_encoder import TargetEncoder\n",
    "from category_encoders.glmm import GLMMEncoder\n",
    "from category_encoders.leave_one_out import LeaveOneOutEncoder\n",
    "from category_encoders.cat_boost import CatBoostEncoder"
   ]
  },
  {
   "cell_type": "code",
   "execution_count": 3,
   "metadata": {
    "uuid": "9a02fc24-ba44-4d75-9e0f-02c0aa397dbd"
   },
   "outputs": [],
   "source": [
    "data_train =pd.read_csv('../金融风控/train.csv')\n",
    "data_test_a = pd.read_csv('../金融风控/testA.csv')"
   ]
  },
  {
   "cell_type": "code",
   "execution_count": 4,
   "metadata": {
    "uuid": "7ef53ad6-944c-4ffb-b534-63d298673c53"
   },
   "outputs": [],
   "source": [
    "#数据处理"
   ]
  },
  {
   "cell_type": "code",
   "execution_count": 5,
   "metadata": {
    "uuid": "145b3adb-f615-4f78-80e5-12a0d3c08292"
   },
   "outputs": [],
   "source": [
    "for data in [data_train, data_test_a]:\n",
    "    data['earliesCreditLine'] = data['earliesCreditLine'].apply(lambda s: int(s[-4:]))\n",
    "    data['issueDate'] = pd.to_datetime(data['issueDate'])\n",
    "    data['miss'] = data.isnull().sum(axis=1)/len(data_train.columns)\n",
    "    data['employmentLength'].replace(to_replace='10+ years', value='10 years', inplace=True)\n",
    "    data['employmentLength'].replace('< 1 year', '0 years', inplace=True)\n",
    "    data['employmentLength'] = data['employmentLength'].apply(employmentLength_to_int)\n",
    "    data.drop(['n3','policyCode'], axis=1,inplace=True)\n",
    "data_train = data_train.fillna(axis=0,method='ffill')"
   ]
  },
  {
   "cell_type": "code",
   "execution_count": 39,
   "metadata": {
    "uuid": "72a5beb4-25c9-4ce4-a5ae-d6a71c7b4f2c"
   },
   "outputs": [],
   "source": [
    "# dic_month = {'Jan':'01', 'Feb':'02', 'Mar':'03', 'Apr':'04', 'May':'05', 'Jun':'06', 'Jul':'07', 'Aug':'08', 'Sep':'09', 'Oct':'10', 'Nov':'11', 'Dec':'12'}\n",
    "\n",
    "# def get_month_year(str):\n",
    "#   month = list(str)[0] + list(str)[1] + list(str)[2]\n",
    "#   month = dic_month[month]\n",
    "#   year = list(str)[-4] + list(str)[-3] + list(str)[-2] + list(str)[-1]\n",
    "#   date = year + '-' + month + '-' + '01'\n",
    "#   return date\n",
    "\n",
    "\n",
    "# train_data['earliesCreditLine_date'] = train_data['earliesCreditLine'].apply(lambda x : get_month_year(x))\n",
    "# test_data['earliesCreditLine_date'] = test_data['earliesCreditLine'].apply(lambda x : get_month_year(x))"
   ]
  },
  {
   "cell_type": "code",
   "execution_count": 40,
   "metadata": {
    "uuid": "f2f76542-2d53-4044-91f5-6b0d0c0bf164"
   },
   "outputs": [],
   "source": [
    "for data in [data_train , data_test_a]:\n",
    "    data['earliesCreditLineDT'] = data['earliesCreditLine'] - 1944"
   ]
  },
  {
   "cell_type": "code",
   "execution_count": 41,
   "metadata": {
    "uuid": "58cc731d-e593-4dd0-84d0-8222f386b2f8"
   },
   "outputs": [],
   "source": [
    "for data in [data_train , data_test_a]:\n",
    "    data['issueDate_2'] = data['issueDate'].apply(lambda x : int(x[:4]))"
   ]
  },
  {
   "cell_type": "code",
   "execution_count": 42,
   "metadata": {
    "uuid": "8487e716-3693-4748-9fba-c9167084f87b"
   },
   "outputs": [],
   "source": [
    "#转化成时间格式\n",
    "for data in [data_train, data_test_a]:\n",
    "    data['issueDate'] = pd.to_datetime(data['issueDate'],format='%Y-%m-%d')\n",
    "    startdate = datetime.datetime.strptime('2007-06-01', '%Y-%m-%d')\n",
    "    #构造时间特征\n",
    "    data['issueDateDT'] = data['issueDate'].apply(lambda x: x-startdate).dt.days"
   ]
  },
  {
   "cell_type": "code",
   "execution_count": 43,
   "metadata": {
    "uuid": "79746f06-35c8-43d6-8017-93ce1cfee42c"
   },
   "outputs": [],
   "source": [
    "data_test_a['months']=(pd.to_datetime(data_test_a['issueDate'])-pd.to_datetime(data_test_a['earliesCreditLine'])).map(lambda x:round(x.days/30)).astype('int')\n",
    "data_train['months']=(pd.to_datetime(data_train['issueDate'])-pd.to_datetime(data_train['earliesCreditLine'])).map(lambda x:round(x.days/30)).astype('int')"
   ]
  },
  {
   "cell_type": "code",
   "execution_count": 44,
   "metadata": {
    "uuid": "82b53800-386b-4380-83fe-b1a11604b6ab"
   },
   "outputs": [],
   "source": [
    "data_train['years'] = (data_train['months'] / 12 ).astype('int')\n",
    "data_test_a['years'] = (data_test_a['months'] / 12 ).astype('int')"
   ]
  },
  {
   "cell_type": "code",
   "execution_count": 45,
   "metadata": {
    "uuid": "9927ab82-3207-49e2-bc50-77a09d76fff4"
   },
   "outputs": [],
   "source": [
    "for data_all in [data_train ,data_test_a]:\n",
    "    data_all['issueDate']=pd.to_datetime(data_all['issueDate'], errors='coerce')\n",
    "    data_all['issueDate_1']=((data_all['issueDate'].max()-data_all['issueDate']).dt.days/365).astype('int')\n",
    "    data_all['issueDate_3']=((data_all['issueDate'].max()-data_all['issueDate']).dt.days/365).astype('int')"
   ]
  },
  {
   "cell_type": "code",
   "execution_count": 46,
   "metadata": {
    "uuid": "f96508d6-bdc5-4e8f-be2f-2bb0bbe87d17"
   },
   "outputs": [],
   "source": [
    "for data_all in [data_train ,data_test_a]:\n",
    "    data_all['earliesCreditLine']=pd.to_datetime(data_all['earliesCreditLine'], errors='coerce')\n",
    "    data_all['earliesCreditLine_2']=((data_all['issueDate'].max()-data_all['earliesCreditLine']).dt.days/30).astype('int')\n",
    "    data_all['earliesCreditLine_1']=((data_all['issueDate'].max()-data_all['earliesCreditLine']).dt.days/365).astype('int')\n",
    "#     data_all['earliesCreditLine_2']=(data_all['issueDate']-data_all['earliesCreditLine']).dt.days/365"
   ]
  },
  {
   "cell_type": "code",
   "execution_count": 47,
   "metadata": {
    "uuid": "a62c7620-a118-4bfa-94fb-359edc4f0c2f"
   },
   "outputs": [],
   "source": [
    "grade_mapping = {\"A\": 1, \n",
    "                 \"B\": 2, \n",
    "                 \"C\": 3, \n",
    "                 \"D\": 4,\n",
    "                 \"E\": 5, \n",
    "                 \"F\": 6, \n",
    "                 \"G\": 7,}\n",
    "for data_all in [data_train ,data_test_a]:\n",
    "    data_all['grade']=data_all.grade.map(grade_mapping)"
   ]
  },
  {
   "cell_type": "code",
   "execution_count": 48,
   "metadata": {
    "uuid": "d806ffae-159c-4b25-b146-066c9d52dcdd"
   },
   "outputs": [],
   "source": [
    "#新特征\n",
    "for data_all in [data_train , data_test_a]:\n",
    "    data_all['subGrade'] = data_all['subGrade'].map({'A1':1,'A2':2,'A3':3,'A4':4,'A5':5,'B1':6,'B2':7,'B3':8,'B4':9,'B5':10,'C1':11,'C2':12,'C3':13,'C4':14,'C5':15\n",
    "                                      ,'D1':16,'D2':17,'D3':18,'D4':19,'D5':20,'E1':21,'E2':22,'E3':23,'E4':24,'E5':25,'F1':26,'F2':27,'F3':28,'F4':29,'F5':30\n",
    "                                      ,'G1':31,'G2':32,'G3':33,'G4':34,'G5':35})"
   ]
  },
  {
   "cell_type": "code",
   "execution_count": 49,
   "metadata": {
    "uuid": "3c05c22f-a6df-4546-b3f1-e1afb34d3a11"
   },
   "outputs": [],
   "source": [
    "#purpose的逾期情况 转换成概率 不行\n",
    "grade_risk = data_train.groupby('regionCode')['isDefault'].agg(all_sum = np.size, bad_sum = np.sum)\n",
    "#purpose的逾期率\n",
    "grade_risk['逾期率'] = grade_risk['bad_sum']/grade_risk['all_sum']\n",
    "list_1 = list(grade_risk['逾期率'])\n",
    "list_2 = sorted(list_1)\n",
    "dict_1 = {}\n",
    "for i in range(51):\n",
    "    dict_1[i] = list_2.index(list_1[i]) + 1\n",
    "for data_all in [data_train , data_test_a]:\n",
    "    data_all['regionCode'] = data_all['regionCode'].map(dict_1)"
   ]
  },
  {
   "cell_type": "code",
   "execution_count": 50,
   "metadata": {
    "uuid": "38bcb17c-fd7a-4b45-acd0-5ce93645fdfd"
   },
   "outputs": [],
   "source": [
    "#purpose的逾期情况 转换成概率\n",
    "grade_risk = data_train.groupby('purpose')['isDefault'].agg(all_sum = np.size, bad_sum = np.sum)\n",
    "#purpose的逾期率\n",
    "grade_risk['逾期率'] = grade_risk['bad_sum']/grade_risk['all_sum']\n",
    "list_1 = list(grade_risk['逾期率'])\n",
    "list_2 = sorted(list_1)\n",
    "dict_1 = {}\n",
    "for i in range(14):\n",
    "    dict_1[i] = list_2.index(list_1[i])  + 1\n",
    "for data_all in [data_train , data_test_a]:\n",
    "    data_all['purpose'] = data_all['purpose'].map(dict_1)"
   ]
  },
  {
   "cell_type": "code",
   "execution_count": 51,
   "metadata": {
    "uuid": "f518aad4-1982-491f-9648-78613c39bb0e"
   },
   "outputs": [],
   "source": [
    "dict_1 = {}\n",
    "for i in range(38):\n",
    "    x = 845 - i*5\n",
    "    dict_1[x] = i + 1\n",
    "dict_1[630] = 39\n",
    "dict_1[625] = 39\n",
    "for data in [data_train , data_test_a]:\n",
    "    data['ficoRangeLow'] = data['ficoRangeLow'].map(dict_1)\n",
    "#     data.drop(['ficoRangeHigh'] , axis = 1 , inplace = True)"
   ]
  },
  {
   "cell_type": "code",
   "execution_count": 52,
   "metadata": {
    "uuid": "db0c5576-d2de-41ae-ae88-8a8ce17ab28e"
   },
   "outputs": [],
   "source": [
    "# cate_features = [ 'employmentTitle', 'homeOwnership', 'verificationStatus',  'postCode', \\\n",
    "#                   'applicationType', 'initialListStatus', 'title','employmentLength'\n",
    "#                 ,'issueDate_1' , 'earliesCreditLine_1' , 'months','ficoRangeLow','earliesCreditLineDT'\n",
    "#                 ,'term']\n"
   ]
  },
  {
   "cell_type": "code",
   "execution_count": 53,
   "metadata": {
    "uuid": "b34d361e-3832-479b-9509-aa560231b8e9"
   },
   "outputs": [],
   "source": [
    "# for data in [data_train , data_test_a]:\n",
    "#     data['r_r'] = data['revolBal'] * data['revolUtil'] *0.01"
   ]
  },
  {
   "cell_type": "code",
   "execution_count": 54,
   "metadata": {
    "uuid": "adee8dd7-4c82-4123-b59b-3337a4de54c0"
   },
   "outputs": [],
   "source": [
    "# dict_1 = data_train.groupby('postCode')['dti'].mean()\n",
    "# for data in [data_train , data_test_a]:\n",
    "#     data['p_t'] = data['postCode'].map(dict_1)"
   ]
  },
  {
   "cell_type": "code",
   "execution_count": 55,
   "metadata": {
    "uuid": "a5cc66df-6a7b-4ded-b5b0-54182fee585e"
   },
   "outputs": [],
   "source": [
    "# data_test_a['revolUtil'] = data_test_a['revolUtil'].fillna(data_test_a['revolUtil'].mean())\n",
    "# for data in [data_train , data_test_a]:\n",
    "#     data['revolUtil_1'] = data['revolUtil'].astype('int')"
   ]
  },
  {
   "cell_type": "code",
   "execution_count": 56,
   "metadata": {
    "uuid": "bba88023-43e1-46b3-849f-4b9fa7f56ffc"
   },
   "outputs": [],
   "source": [
    "# 'n0' , 'n1' , 'n2' , 'n4' , 'n5' , 'n6' , 'n7' , 'n8' , 'n9' ,'n10' , 'n11' ,'n12' ,'n13' ,'n14'"
   ]
  },
  {
   "cell_type": "code",
   "execution_count": 21,
   "metadata": {
    "uuid": "b875bd0a-33ed-4892-901b-b9e32850a0e5"
   },
   "outputs": [],
   "source": [
    "data_test_a['employmentLength'].fillna(0,inplace =True)"
   ]
  },
  {
   "cell_type": "code",
   "execution_count": 22,
   "metadata": {
    "uuid": "8270187b-995f-43e9-b30f-aae11ef8eac0"
   },
   "outputs": [],
   "source": [
    "for data in [data_train , data_test_a]:\n",
    "    data['employmentLength'] = data['employmentLength'].astype('int')"
   ]
  },
  {
   "cell_type": "code",
   "execution_count": 23,
   "metadata": {
    "uuid": "51aba2dc-121b-4de0-b56e-9168a0918174"
   },
   "outputs": [],
   "source": [
    "# cate_features = ['grade', 'subGrade', 'employmentTitle', 'homeOwnership', 'verificationStatus', 'purpose', \n",
    "#                  'postCode', 'regionCode', 'applicationType', 'initialListStatus', 'title','employmentLength'\n",
    "#              ,'ficoRangeLow','term' ]\n"
   ]
  },
  {
   "cell_type": "code",
   "execution_count": 24,
   "metadata": {
    "uuid": "7f7ec14d-0095-4adc-817d-ac949df45831"
   },
   "outputs": [],
   "source": [
    "# 0.7430的\n",
    "cate_features = ['grade', 'subGrade', 'employmentTitle', 'homeOwnership', 'verificationStatus', 'purpose', 'postCode', \\\n",
    "                 'regionCode', 'applicationType', 'initialListStatus', 'title','employmentLength'\n",
    "                ,'issueDate_1' , 'earliesCreditLine_1' , 'months','ficoRangeLow','earliesCreditLineDT'\n",
    "                ,'term','issueDate_2' ,'issueDate_3','earliesCreditLine_2']\n"
   ]
  },
  {
   "cell_type": "code",
   "execution_count": 25,
   "metadata": {
    "uuid": "475510d0-4e19-4c85-b43b-7fd04b7e0c93"
   },
   "outputs": [],
   "source": [
    "# # 0.7430的\n",
    "# cate_features = ['grade', 'subGrade', 'employmentTitle', 'homeOwnership', 'verificationStatus', 'purpose', 'postCode', \\\n",
    "#                  'regionCode', 'applicationType', 'initialListStatus', 'title','employmentLength'\n",
    "#                 ,'issueDate_1' , 'earliesCreditLine_1' , 'months','ficoRangeLow','earliesCreditLineDT'\n",
    "#                 ,'term','issueDate_2','years' ]\n"
   ]
  },
  {
   "cell_type": "code",
   "execution_count": 57,
   "metadata": {
    "uuid": "eb4d7f17-f9f2-41b8-9c1e-3c31c0fecc06"
   },
   "outputs": [],
   "source": [
    "for data in [data_train, data_test_a]:\n",
    "    data[['employmentTitle','postCode','title','issueDate']] = data[['employmentTitle','postCode','title','issueDate']].astype('int')\n",
    "#     data['employmentLength'] = data['employmentLength'].astype('str')"
   ]
  },
  {
   "cell_type": "code",
   "execution_count": 27,
   "metadata": {
    "uuid": "822d5865-c29c-4344-834d-d150e4457b3b"
   },
   "outputs": [],
   "source": [
    "# pd.set_option('display.max_rows' , 200)"
   ]
  },
  {
   "cell_type": "code",
   "execution_count": 61,
   "metadata": {
    "uuid": "92ee2a73-c96c-4d8e-ab3f-77ec57df9ce4"
   },
   "outputs": [],
   "source": [
    "# def cv_model(clf, train_x, train_y, test_x, clf_name):\n",
    "#     folds = 5\n",
    "#     seed = 2020\n",
    "#     kf = KFold(n_splits=folds, shuffle=True, random_state=seed)\n",
    "#     test_pred = []\n",
    "#     train = np.zeros(train_x.shape[0])\n",
    "#     test = np.zeros(test_x.shape[0])\n",
    "\n",
    "#     cv_scores = []\n",
    "#     for i, (train_index, valid_index) in enumerate(kf.split(train_x, train_y)):\n",
    "#         print('************************************ {} ************************************'.format(str(i+1)))\n",
    "#         trn_x, trn_y, val_x, val_y = train_x.iloc[train_index], train_y[train_index], train_x.iloc[valid_index], train_y[valid_index]\n",
    "\n",
    "#         if clf_name == \"lgb\":\n",
    "#             train_matrix = clf.Dataset(trn_x, label=trn_y)\n",
    "#             valid_matrix = clf.Dataset(val_x, label=val_y)\n",
    "#             params = {\n",
    "#         'boosting_type': 'gbdt',\n",
    "#         'objective': 'binary',\n",
    "#         'metric': 'auc',\n",
    "#         'learning_rate': 0.01,\n",
    "#         'num_leaves':60,\n",
    "#         'max_depth': 8,\n",
    "#         'min_data_in_leaf': 1000,\n",
    "#         'min_child_weight':6,\n",
    "#         'bagging_fraction': 0.91,\n",
    "#         'feature_fraction': 0.8,\n",
    "#         'bagging_freq':94,\n",
    "#         'reg_lambda':8,\n",
    "#         'reg_alpha':9,\n",
    "#         'min_split_gain': 0.30,\n",
    "#         'seed': 2020,\n",
    "#         'silent': True,\n",
    "#         'verbose': -1,\n",
    "#         'n_jobs': -1\n",
    "#                 }\n",
    "\n",
    "\n",
    "#     # 调参后的最优参数\n",
    "    \n",
    "\n",
    "    \n",
    "#             model = clf.train(params, train_matrix, 150000, valid_sets=[train_matrix, valid_matrix], \n",
    "#                               verbose_eval=200,early_stopping_rounds=500)\n",
    "#             val_pred = model.predict(val_x, num_iteration=model.best_iteration)\n",
    "#             test_pred_ = model.predict(test_x, num_iteration=model.best_iteration)\n",
    "#             test_pred.append(test_pred_)     \n",
    "#             pd.DataFrame(test_pred_).to_csv('pre'+str(i)+'.csv')\n",
    "#             # print(list(sorted(zip(features, model.feature_importance(\"gain\")), key=lambda x: x[1], reverse=True))[:20])\n",
    "                \n",
    "#         if clf_name == \"xgb\":\n",
    "#             train_matrix = clf.DMatrix(trn_x , label=trn_y)\n",
    "#             valid_matrix = clf.DMatrix(val_x , label=val_y)\n",
    "#             test_x  = clf.DMatrix(test_x)\n",
    "#             params = {\n",
    "#         'booster': 'gbtree',\n",
    "#         'objective': 'binary',\n",
    "#         'eval_metric': 'auc',\n",
    "#         'gamma': 1,\n",
    "#         'min_child_weight': 1.5,\n",
    "#         'max_depth': 6,\n",
    "#         'lambda': 10,\n",
    "#         'subsample': 0.7,\n",
    "#         'colsample_bytree': 0.7,\n",
    "#         'colsample_bylevel': 0.7,\n",
    "#         'eta': 0.04,\n",
    "#         'tree_method': 'exact',\n",
    "#         'seed': 2020,\n",
    "#         'n_jobs': -1,\n",
    "#         \"silent\": True,\n",
    "#                       }\n",
    "#             watchlist = [(train_matrix, 'train'),(valid_matrix, 'eval')]\n",
    "            \n",
    "#             model = clf.train(params, train_matrix, num_boost_round=150000, evals=watchlist, verbose_eval=200, early_stopping_rounds=500)\n",
    "#             val_pred  = model.predict(valid_matrix, ntree_limit=model.best_ntree_limit)\n",
    "#             test_pred_ = model.predict(test_x , ntree_limit=model.best_ntree_limit)\n",
    "#             test_pred.append(test_pred_)     \n",
    "\n",
    "#         if clf_name == \"cat\":\n",
    "#             params = {'learning_rate': 0.05, 'depth': 5, 'l2_leaf_reg': 10, 'bootstrap_type': 'Bernoulli',\n",
    "#                       'od_type': 'Iter', 'od_wait': 50, 'random_seed': 11, 'allow_writing_files': False}\n",
    "            \n",
    "#             model = clf(iterations=20000, **params)\n",
    "#             model.fit(trn_x, trn_y, eval_set=(val_x, val_y),\n",
    "#                       cat_features=[], use_best_model=True, verbose=500)\n",
    "            \n",
    "#             val_pred  = model.predict(val_x)\n",
    "#             test_pred = model.predict(test_x)\n",
    "            \n",
    "#         train[valid_index] = val_pred\n",
    "#         #test = test_pred \n",
    "#         #cv_scores.append(roc_auc_score(val_y, val_pred))\n",
    "        \n",
    "#         print(cv_scores)\n",
    "#     test = np.sum(test_pred,axis=0) / kf.n_splits\n",
    "\n",
    "#     print(\"%s_scotrainre_list:\" % clf_name, cv_scores)\n",
    "#     print(\"%s_score_mean:\" % clf_name, np.mean(cv_scores))\n",
    "#     print(\"%s_score_std:\" % clf_name, np.std(cv_scores))\n",
    "#     #return train, test\n",
    "#     return train, test"
   ]
  },
  {
   "cell_type": "code",
   "execution_count": 62,
   "metadata": {
    "uuid": "6b07ca0b-c154-47eb-80e0-9ed1d5472d39"
   },
   "outputs": [],
   "source": [
    "# def lgb_model(x_train, y_train, x_test):\n",
    "#     lgb_train, lgb_test = cv_model(lgb, x_train, y_train, x_test, \"lgb\")\n",
    "#     return lgb_train, lgb_test"
   ]
  },
  {
   "cell_type": "code",
   "execution_count": 63,
   "metadata": {
    "uuid": "d4a3edef-d58a-42a6-8931-893e53c47205"
   },
   "outputs": [
    {
     "name": "stdout",
     "output_type": "stream",
     "text": [
      "************************************ 1 ************************************\n",
      "Training until validation scores don't improve for 500 rounds\n",
      "[200]\ttraining's auc: 0.725876\tvalid_1's auc: 0.723972\n",
      "[400]\ttraining's auc: 0.734151\tvalid_1's auc: 0.730225\n",
      "[600]\ttraining's auc: 0.738977\tvalid_1's auc: 0.73321\n",
      "[800]\ttraining's auc: 0.742455\tvalid_1's auc: 0.734877\n",
      "[1000]\ttraining's auc: 0.745324\tvalid_1's auc: 0.735954\n",
      "[1200]\ttraining's auc: 0.747597\tvalid_1's auc: 0.736577\n",
      "[1400]\ttraining's auc: 0.749828\tvalid_1's auc: 0.737116\n",
      "[1600]\ttraining's auc: 0.751763\tvalid_1's auc: 0.737552\n",
      "[1800]\ttraining's auc: 0.753601\tvalid_1's auc: 0.73782\n",
      "[2000]\ttraining's auc: 0.75537\tvalid_1's auc: 0.738067\n",
      "[2200]\ttraining's auc: 0.757085\tvalid_1's auc: 0.738304\n",
      "[2400]\ttraining's auc: 0.758509\tvalid_1's auc: 0.738412\n",
      "[2600]\ttraining's auc: 0.760089\tvalid_1's auc: 0.738476\n",
      "[2800]\ttraining's auc: 0.761486\tvalid_1's auc: 0.738631\n",
      "[3000]\ttraining's auc: 0.763002\tvalid_1's auc: 0.738693\n",
      "[3200]\ttraining's auc: 0.764461\tvalid_1's auc: 0.738791\n",
      "[3400]\ttraining's auc: 0.765834\tvalid_1's auc: 0.738844\n",
      "[3600]\ttraining's auc: 0.767137\tvalid_1's auc: 0.738937\n",
      "[3800]\ttraining's auc: 0.768217\tvalid_1's auc: 0.738986\n",
      "[4000]\ttraining's auc: 0.769478\tvalid_1's auc: 0.738965\n",
      "[4200]\ttraining's auc: 0.770835\tvalid_1's auc: 0.738982\n",
      "Early stopping, best iteration is:\n",
      "[3759]\ttraining's auc: 0.768085\tvalid_1's auc: 0.738994\n",
      "[]\n",
      "************************************ 2 ************************************\n",
      "[LightGBM] [Warning] Unknown parameter: silent\n",
      "Training until validation scores don't improve for 500 rounds\n",
      "[200]\ttraining's auc: 0.72664\tvalid_1's auc: 0.720202\n",
      "[400]\ttraining's auc: 0.73495\tvalid_1's auc: 0.726488\n",
      "[600]\ttraining's auc: 0.739714\tvalid_1's auc: 0.72955\n",
      "[800]\ttraining's auc: 0.743161\tvalid_1's auc: 0.73129\n",
      "[1000]\ttraining's auc: 0.745954\tvalid_1's auc: 0.732436\n",
      "[1200]\ttraining's auc: 0.748462\tvalid_1's auc: 0.733196\n",
      "[1400]\ttraining's auc: 0.750373\tvalid_1's auc: 0.733695\n",
      "[1600]\ttraining's auc: 0.752365\tvalid_1's auc: 0.734184\n",
      "[1800]\ttraining's auc: 0.75429\tvalid_1's auc: 0.734592\n",
      "[2000]\ttraining's auc: 0.755874\tvalid_1's auc: 0.734903\n",
      "[2200]\ttraining's auc: 0.75739\tvalid_1's auc: 0.735146\n",
      "[2400]\ttraining's auc: 0.759013\tvalid_1's auc: 0.735318\n",
      "[2600]\ttraining's auc: 0.760488\tvalid_1's auc: 0.735445\n",
      "[2800]\ttraining's auc: 0.761887\tvalid_1's auc: 0.735625\n",
      "[3000]\ttraining's auc: 0.763339\tvalid_1's auc: 0.73571\n",
      "[3200]\ttraining's auc: 0.764719\tvalid_1's auc: 0.735763\n",
      "[3400]\ttraining's auc: 0.766054\tvalid_1's auc: 0.735826\n",
      "[3600]\ttraining's auc: 0.767389\tvalid_1's auc: 0.735947\n",
      "[3800]\ttraining's auc: 0.768638\tvalid_1's auc: 0.736018\n",
      "[4000]\ttraining's auc: 0.769792\tvalid_1's auc: 0.736064\n",
      "[4200]\ttraining's auc: 0.771137\tvalid_1's auc: 0.736125\n",
      "[4400]\ttraining's auc: 0.77249\tvalid_1's auc: 0.736116\n",
      "[4600]\ttraining's auc: 0.773682\tvalid_1's auc: 0.736116\n",
      "Early stopping, best iteration is:\n",
      "[4170]\ttraining's auc: 0.770959\tvalid_1's auc: 0.736128\n",
      "[]\n",
      "************************************ 3 ************************************\n",
      "[LightGBM] [Warning] Unknown parameter: silent\n",
      "Training until validation scores don't improve for 500 rounds\n",
      "[200]\ttraining's auc: 0.726048\tvalid_1's auc: 0.723537\n",
      "[400]\ttraining's auc: 0.734286\tvalid_1's auc: 0.729813\n",
      "[600]\ttraining's auc: 0.739095\tvalid_1's auc: 0.732727\n",
      "[800]\ttraining's auc: 0.742436\tvalid_1's auc: 0.734344\n",
      "[1000]\ttraining's auc: 0.745168\tvalid_1's auc: 0.735483\n",
      "[1200]\ttraining's auc: 0.747677\tvalid_1's auc: 0.736404\n",
      "[1400]\ttraining's auc: 0.749735\tvalid_1's auc: 0.737026\n",
      "[1600]\ttraining's auc: 0.751604\tvalid_1's auc: 0.737439\n",
      "[1800]\ttraining's auc: 0.753403\tvalid_1's auc: 0.737771\n",
      "[2000]\ttraining's auc: 0.755003\tvalid_1's auc: 0.738069\n",
      "[2200]\ttraining's auc: 0.756784\tvalid_1's auc: 0.738283\n",
      "[2400]\ttraining's auc: 0.758137\tvalid_1's auc: 0.738475\n",
      "[2600]\ttraining's auc: 0.759504\tvalid_1's auc: 0.7387\n",
      "[2800]\ttraining's auc: 0.761006\tvalid_1's auc: 0.73882\n",
      "[3000]\ttraining's auc: 0.76254\tvalid_1's auc: 0.738909\n",
      "[3200]\ttraining's auc: 0.763959\tvalid_1's auc: 0.739017\n",
      "[3400]\ttraining's auc: 0.765358\tvalid_1's auc: 0.739073\n",
      "[3600]\ttraining's auc: 0.766786\tvalid_1's auc: 0.739093\n",
      "[3800]\ttraining's auc: 0.768128\tvalid_1's auc: 0.739102\n",
      "[4000]\ttraining's auc: 0.769441\tvalid_1's auc: 0.739116\n",
      "[4200]\ttraining's auc: 0.770607\tvalid_1's auc: 0.739131\n",
      "[4400]\ttraining's auc: 0.771869\tvalid_1's auc: 0.739123\n",
      "[4600]\ttraining's auc: 0.773204\tvalid_1's auc: 0.739137\n",
      "[4800]\ttraining's auc: 0.774423\tvalid_1's auc: 0.739132\n",
      "[5000]\ttraining's auc: 0.775812\tvalid_1's auc: 0.739168\n",
      "[5200]\ttraining's auc: 0.776825\tvalid_1's auc: 0.739159\n",
      "[5400]\ttraining's auc: 0.777895\tvalid_1's auc: 0.739197\n",
      "[5600]\ttraining's auc: 0.779034\tvalid_1's auc: 0.739163\n",
      "[5800]\ttraining's auc: 0.780188\tvalid_1's auc: 0.739129\n",
      "Early stopping, best iteration is:\n",
      "[5433]\ttraining's auc: 0.778083\tvalid_1's auc: 0.739205\n",
      "[]\n",
      "************************************ 4 ************************************\n",
      "[LightGBM] [Warning] Unknown parameter: silent\n",
      "Training until validation scores don't improve for 500 rounds\n",
      "[200]\ttraining's auc: 0.726004\tvalid_1's auc: 0.722757\n",
      "[400]\ttraining's auc: 0.734371\tvalid_1's auc: 0.728808\n",
      "[600]\ttraining's auc: 0.739122\tvalid_1's auc: 0.731813\n",
      "[800]\ttraining's auc: 0.742456\tvalid_1's auc: 0.733527\n",
      "[1000]\ttraining's auc: 0.745315\tvalid_1's auc: 0.734685\n",
      "[1200]\ttraining's auc: 0.747726\tvalid_1's auc: 0.735579\n",
      "[1400]\ttraining's auc: 0.749799\tvalid_1's auc: 0.73616\n",
      "[1600]\ttraining's auc: 0.751712\tvalid_1's auc: 0.736621\n",
      "[1800]\ttraining's auc: 0.753423\tvalid_1's auc: 0.736951\n",
      "[2000]\ttraining's auc: 0.755156\tvalid_1's auc: 0.737339\n",
      "[2200]\ttraining's auc: 0.756831\tvalid_1's auc: 0.737632\n",
      "[2400]\ttraining's auc: 0.758246\tvalid_1's auc: 0.737833\n",
      "[2600]\ttraining's auc: 0.759663\tvalid_1's auc: 0.738028\n",
      "[2800]\ttraining's auc: 0.761099\tvalid_1's auc: 0.738154\n",
      "[3000]\ttraining's auc: 0.762586\tvalid_1's auc: 0.738219\n",
      "[3200]\ttraining's auc: 0.763989\tvalid_1's auc: 0.738351\n",
      "[3400]\ttraining's auc: 0.765298\tvalid_1's auc: 0.738403\n",
      "[3600]\ttraining's auc: 0.766817\tvalid_1's auc: 0.738483\n",
      "[3800]\ttraining's auc: 0.768025\tvalid_1's auc: 0.738511\n",
      "[4000]\ttraining's auc: 0.76933\tvalid_1's auc: 0.738534\n",
      "[4200]\ttraining's auc: 0.770607\tvalid_1's auc: 0.738568\n",
      "[4400]\ttraining's auc: 0.77182\tvalid_1's auc: 0.738652\n",
      "[4600]\ttraining's auc: 0.773182\tvalid_1's auc: 0.738675\n",
      "[4800]\ttraining's auc: 0.774387\tvalid_1's auc: 0.738667\n",
      "[5000]\ttraining's auc: 0.775569\tvalid_1's auc: 0.738673\n",
      "[5200]\ttraining's auc: 0.776679\tvalid_1's auc: 0.738695\n",
      "[5400]\ttraining's auc: 0.777788\tvalid_1's auc: 0.738687\n",
      "[5600]\ttraining's auc: 0.778897\tvalid_1's auc: 0.73864\n",
      "Early stopping, best iteration is:\n",
      "[5159]\ttraining's auc: 0.776427\tvalid_1's auc: 0.738705\n",
      "[]\n",
      "************************************ 5 ************************************\n",
      "[LightGBM] [Warning] Unknown parameter: silent\n",
      "Training until validation scores don't improve for 500 rounds\n",
      "[200]\ttraining's auc: 0.726294\tvalid_1's auc: 0.721908\n",
      "[400]\ttraining's auc: 0.734641\tvalid_1's auc: 0.727933\n",
      "[600]\ttraining's auc: 0.739486\tvalid_1's auc: 0.73096\n",
      "[800]\ttraining's auc: 0.742841\tvalid_1's auc: 0.73254\n",
      "[1000]\ttraining's auc: 0.745754\tvalid_1's auc: 0.733654\n",
      "[1200]\ttraining's auc: 0.748145\tvalid_1's auc: 0.734386\n",
      "[1400]\ttraining's auc: 0.75028\tvalid_1's auc: 0.735004\n",
      "[1600]\ttraining's auc: 0.752194\tvalid_1's auc: 0.735353\n",
      "[1800]\ttraining's auc: 0.754136\tvalid_1's auc: 0.735813\n",
      "[2000]\ttraining's auc: 0.755737\tvalid_1's auc: 0.736071\n",
      "[2200]\ttraining's auc: 0.757336\tvalid_1's auc: 0.736298\n",
      "[2400]\ttraining's auc: 0.758922\tvalid_1's auc: 0.736485\n",
      "[2600]\ttraining's auc: 0.760192\tvalid_1's auc: 0.736612\n",
      "[2800]\ttraining's auc: 0.761694\tvalid_1's auc: 0.736806\n",
      "[3000]\ttraining's auc: 0.76318\tvalid_1's auc: 0.736984\n",
      "[3200]\ttraining's auc: 0.764478\tvalid_1's auc: 0.737083\n",
      "[3400]\ttraining's auc: 0.766042\tvalid_1's auc: 0.737242\n",
      "[3600]\ttraining's auc: 0.767486\tvalid_1's auc: 0.737327\n",
      "[3800]\ttraining's auc: 0.768738\tvalid_1's auc: 0.737379\n",
      "[4000]\ttraining's auc: 0.770007\tvalid_1's auc: 0.737379\n",
      "[4200]\ttraining's auc: 0.771323\tvalid_1's auc: 0.737364\n",
      "[4400]\ttraining's auc: 0.772617\tvalid_1's auc: 0.737415\n",
      "[4600]\ttraining's auc: 0.773671\tvalid_1's auc: 0.73743\n",
      "[4800]\ttraining's auc: 0.774957\tvalid_1's auc: 0.737428\n",
      "[5000]\ttraining's auc: 0.776173\tvalid_1's auc: 0.737452\n",
      "[5200]\ttraining's auc: 0.777162\tvalid_1's auc: 0.737439\n",
      "[5400]\ttraining's auc: 0.778248\tvalid_1's auc: 0.737404\n",
      "Early stopping, best iteration is:\n",
      "[4988]\ttraining's auc: 0.776089\tvalid_1's auc: 0.737453\n",
      "[]\n",
      "lgb_scotrainre_list: []\n",
      "lgb_score_mean: nan\n",
      "lgb_score_std: nan\n"
     ]
    }
   ],
   "source": [
    "# features = [f for f in data_train.columns if f not in ['id','issueDate','isDefault','earliesCreditLine','policyCode'] and '_outliers' not in f]\n",
    "# x_train = data_train[features]\n",
    "# x_test = data_test_a[features]\n",
    "# y_train = data_train['isDefault']\n",
    "\n",
    "# #lgb_train, lgb_test = xgb_model(x_train, y_train, x_test)\n",
    "# lgb_train, lgb_test = lgb_model(x_train, y_train, x_test)"
   ]
  },
  {
   "cell_type": "code",
   "execution_count": null,
   "metadata": {
    "uuid": "d1de222f-dfd8-4a02-84ff-f10b5516ccc5"
   },
   "outputs": [],
   "source": [
    "import pandas as pd\n",
    "import numpy as np\n",
    "import matplotlib.pyplot as plt\n",
    "import seaborn as sns\n",
    "import datetime\n",
    "from tqdm import tqdm\n",
    "from sklearn.preprocessing import LabelEncoder\n",
    "from sklearn.feature_selection import SelectKBest\n",
    "from sklearn.feature_selection import chi2\n",
    "from sklearn.preprocessing import MinMaxScaler\n",
    "import xgboost as xgb\n",
    "import lightgbm as lgb\n",
    "from catboost import CatBoostRegressor\n",
    "import warnings\n",
    "from sklearn.model_selection import StratifiedKFold, KFold\n",
    "from sklearn.metrics import accuracy_score, f1_score, roc_auc_score, log_loss\n",
    "warnings.filterwarnings('ignore')\n",
    "#target encoding \n",
    "from category_encoders.target_encoder import TargetEncoder\n",
    "from category_encoders.glmm import GLMMEncoder\n",
    "from category_encoders.leave_one_out import LeaveOneOutEncoder\n",
    "from category_encoders.cat_boost import CatBoostEncoder"
   ]
  },
  {
   "cell_type": "code",
   "execution_count": 28,
   "metadata": {
    "uuid": "1e999de2-ce2d-4345-89c3-ddc4ec7f75d5"
   },
   "outputs": [],
   "source": [
    "def cv_model(clf, train_x, train_y, test_x, clf_name):\n",
    "    folds = 5\n",
    "    seed = 2019\n",
    "    kf = KFold(n_splits=folds, shuffle=True, random_state=seed)\n",
    "    test_pred = []\n",
    "    trainindex = []\n",
    "    validndex = []\n",
    "    train = np.zeros(train_x.shape[0])\n",
    "    test = np.zeros(test_x.shape[0])\n",
    "\n",
    "    cv_scores = []\n",
    "\n",
    "    for i, (train_index, valid_index) in enumerate(kf.split(train_x, train_y)):\n",
    "        print('************************************ {} ************************************'.format(str(i+1)))\n",
    "        trn_x, trn_y, val_x, val_y = train_x.iloc[train_index], train_y[train_index], train_x.iloc[valid_index], train_y[valid_index]\n",
    "        trainindex.append(train_index)\n",
    "        validndex.append(valid_index)\n",
    "        if clf_name == \"cat\":\n",
    "            params = {'learning_rate': 0.05, 'depth':6, 'l2_leaf_reg': 15, 'bootstrap_type': 'No',\n",
    "                      'od_type': 'Iter', 'od_wait': 50, 'random_seed': 10, 'allow_writing_files': False,\n",
    "                      'eval_metric':\"AUC\",'class_weights' : {0:0.6237693525698402, 1: 2.506108639814564}\n",
    "                      'loss_function':'Logloss'}\n",
    "            \n",
    "            model = clf(iterations=20000,task_type=\"CPU\", **params)\n",
    "            #,gpu_ram_part=0.9,gpu_cat_features_storage = 'CpuPinnedMemory',max_ctr_complexity=1\n",
    "            model.fit(trn_x, trn_y, eval_set=(val_x, val_y),\n",
    "                      cat_features=cate_features, use_best_model=True, verbose=500)\n",
    "        \n",
    "            val_pred  = model.predict_proba(val_x)[:,1]\n",
    "            test_pred_ = model.predict_proba(test_x)[:,1]\n",
    "            test_pred.append(test_pred_)\n",
    "            pd.DataFrame(test_pred_).to_csv('pre'+str(i)+'.csv')\n",
    "            \n",
    "        train[valid_index] = val_pred\n",
    "#         test = test_pred / kf.n_splits\n",
    "#         cv_scores.append(roc_auc_score(val_y, val_pred))\n",
    "        FPR,TPR,thresholds=roc_curve(val_y, val_pred)\n",
    "        KS=abs(FPR-TPR).max()\n",
    "        print('KS值：',KS)\n",
    "\n",
    "        print(cv_scores)\n",
    "        \n",
    "    print(\"%s_scotrainre_list:\" % clf_name, cv_scores)\n",
    "    print(\"%s_score_mean:\" % clf_name, np.mean(cv_scores))\n",
    "    print(\"%s_score_std:\" % clf_name, np.std(cv_scores))\n",
    "    return train, test"
   ]
  },
  {
   "cell_type": "code",
   "execution_count": 29,
   "metadata": {
    "uuid": "d619c124-3b83-42c7-aff3-f1b91e1848f9"
   },
   "outputs": [],
   "source": [
    "def cat_model(x_train, y_train, x_test):\n",
    "    cat_train, cat_test = cv_model(CatBoostClassifier, x_train, y_train, x_test, \"cat\")\n",
    "    return cat_train, cat_test"
   ]
  },
  {
   "cell_type": "code",
   "execution_count": 30,
   "metadata": {
    "uuid": "7a76526c-08ae-4257-afd5-9b00a6511e5a"
   },
   "outputs": [],
   "source": [
    "features = [f for f in data_train.columns if f not in ['id','isDefault','issueDate' , 'earliesCreditLine']]\n",
    "x_train = data_train[features]\n",
    "x_test = data_test_a[features]\n",
    "y_train = data_train['isDefault']"
   ]
  },
  {
   "cell_type": "code",
   "execution_count": 31,
   "metadata": {
    "uuid": "13efae37-bb99-4c1d-8306-d5794d7a0a6b"
   },
   "outputs": [
    {
     "name": "stdout",
     "output_type": "stream",
     "text": [
      "************************************ 1 ************************************\n",
      "0:\ttest: 0.7019838\tbest: 0.7019838 (0)\ttotal: 547ms\tremaining: 3h 2m 23s\n",
      "500:\ttest: 0.7428031\tbest: 0.7428031 (500)\ttotal: 4m 34s\tremaining: 2h 57m 57s\n",
      "1000:\ttest: 0.7453009\tbest: 0.7453019 (998)\ttotal: 9m 21s\tremaining: 2h 57m 34s\n",
      "1500:\ttest: 0.7460864\tbest: 0.7460864 (1500)\ttotal: 14m 6s\tremaining: 2h 53m 51s\n",
      "2000:\ttest: 0.7465874\tbest: 0.7465874 (2000)\ttotal: 18m 54s\tremaining: 2h 50m 7s\n",
      "Stopped by overfitting detector  (50 iterations wait)\n",
      "\n",
      "bestTest = 0.7465881118\n",
      "bestIteration = 2001\n",
      "\n",
      "Shrink model to first 2002 iterations.\n",
      "KS值： 0.35968132047414236\n",
      "[]\n",
      "************************************ 2 ************************************\n",
      "0:\ttest: 0.7039460\tbest: 0.7039460 (0)\ttotal: 566ms\tremaining: 3h 8m 44s\n",
      "500:\ttest: 0.7414501\tbest: 0.7414501 (500)\ttotal: 4m 41s\tremaining: 3h 2m 26s\n",
      "1000:\ttest: 0.7430848\tbest: 0.7430856 (998)\ttotal: 9m 23s\tremaining: 2h 58m 11s\n",
      "1500:\ttest: 0.7437721\tbest: 0.7437745 (1498)\ttotal: 14m 7s\tremaining: 2h 54m 7s\n",
      "2000:\ttest: 0.7440786\tbest: 0.7440874 (1977)\ttotal: 18m 55s\tremaining: 2h 50m 16s\n",
      "2500:\ttest: 0.7444244\tbest: 0.7444244 (2500)\ttotal: 23m 48s\tremaining: 2h 46m 32s\n",
      "Stopped by overfitting detector  (50 iterations wait)\n",
      "\n",
      "bestTest = 0.7444269872\n",
      "bestIteration = 2503\n",
      "\n",
      "Shrink model to first 2504 iterations.\n",
      "KS值： 0.35442744978263374\n",
      "[]\n",
      "************************************ 3 ************************************\n",
      "0:\ttest: 0.7037529\tbest: 0.7037529 (0)\ttotal: 486ms\tremaining: 2h 41m 55s\n",
      "500:\ttest: 0.7417398\tbest: 0.7417398 (500)\ttotal: 4m 37s\tremaining: 3h 4s\n",
      "1000:\ttest: 0.7439704\tbest: 0.7439704 (1000)\ttotal: 9m 19s\tremaining: 2h 56m 50s\n",
      "1500:\ttest: 0.7448068\tbest: 0.7448174 (1489)\ttotal: 14m 2s\tremaining: 2h 53m 6s\n",
      "2000:\ttest: 0.7452349\tbest: 0.7452349 (2000)\ttotal: 18m 55s\tremaining: 2h 50m 10s\n",
      "Stopped by overfitting detector  (50 iterations wait)\n",
      "\n",
      "bestTest = 0.745293144\n",
      "bestIteration = 2077\n",
      "\n",
      "Shrink model to first 2078 iterations.\n",
      "KS值： 0.3578105005345783\n",
      "[]\n",
      "************************************ 4 ************************************\n",
      "0:\ttest: 0.7011970\tbest: 0.7011970 (0)\ttotal: 457ms\tremaining: 2h 32m 22s\n",
      "500:\ttest: 0.7398356\tbest: 0.7398356 (500)\ttotal: 4m 38s\tremaining: 3h 44s\n",
      "1000:\ttest: 0.7419098\tbest: 0.7419124 (999)\ttotal: 9m 19s\tremaining: 2h 56m 57s\n",
      "1500:\ttest: 0.7426404\tbest: 0.7426404 (1498)\ttotal: 14m\tremaining: 2h 52m 41s\n",
      "2000:\ttest: 0.7430987\tbest: 0.7431032 (1999)\ttotal: 18m 53s\tremaining: 2h 49m 57s\n",
      "2500:\ttest: 0.7434107\tbest: 0.7434150 (2499)\ttotal: 23m 43s\tremaining: 2h 46m\n",
      "3000:\ttest: 0.7436649\tbest: 0.7436649 (3000)\ttotal: 28m 43s\tremaining: 2h 42m 44s\n",
      "Stopped by overfitting detector  (50 iterations wait)\n",
      "\n",
      "bestTest = 0.7436892619\n",
      "bestIteration = 3015\n",
      "\n",
      "Shrink model to first 3016 iterations.\n",
      "KS值： 0.3563472437762294\n",
      "[]\n",
      "************************************ 5 ************************************\n",
      "0:\ttest: 0.7022120\tbest: 0.7022120 (0)\ttotal: 473ms\tremaining: 2h 37m 30s\n",
      "500:\ttest: 0.7401209\tbest: 0.7401209 (500)\ttotal: 4m 39s\tremaining: 3h 1m 17s\n",
      "1000:\ttest: 0.7422762\tbest: 0.7422794 (998)\ttotal: 9m 25s\tremaining: 2h 58m 55s\n",
      "1500:\ttest: 0.7431378\tbest: 0.7431401 (1499)\ttotal: 14m 17s\tremaining: 2h 56m 12s\n",
      "2000:\ttest: 0.7436648\tbest: 0.7436672 (1992)\ttotal: 19m 7s\tremaining: 2h 51m 57s\n",
      "Stopped by overfitting detector  (50 iterations wait)\n",
      "\n",
      "bestTest = 0.74384856\n",
      "bestIteration = 2297\n",
      "\n",
      "Shrink model to first 2298 iterations.\n",
      "KS值： 0.35709875055919393\n",
      "[]\n",
      "cat_scotrainre_list: []\n",
      "cat_score_mean: nan\n",
      "cat_score_std: nan\n"
     ]
    }
   ],
   "source": [
    "cat_train, cat_test = cat_model(x_train, y_train, x_test)"
   ]
  },
  {
   "cell_type": "code",
   "execution_count": 32,
   "metadata": {
    "uuid": "df76d0ba-4486-4e12-ada8-7d61ae327b26"
   },
   "outputs": [],
   "source": [
    "data_train_1 = pd.read_csv('pre0.csv')\n",
    "data_train_2 = pd.read_csv('pre1.csv')\n",
    "data_train_3 = pd.read_csv('pre2.csv')\n",
    "data_train_4 = pd.read_csv('pre3.csv')\n",
    "data_train_5 = pd.read_csv('pre4.csv')\n",
    "data_train_6 = data_train_1['0'] + data_train_2['0'] + data_train_3['0'] +  data_train_4['0'] + data_train_5['0']\n",
    "data_train_6 = data_train_6 / 5\n",
    "data_sample = pd.read_csv('../金融风控/sample.csv')\n",
    "\"\"\"生成提交格式的DataFrame\"\"\"\n",
    "df_result = pd.DataFrame({'id': data_sample.loc[:, 'id'].values, 'isDefault': data_train_6})\n",
    "\"\"\"保存数据用于预测建模\"\"\"\n",
    "df_result.to_csv('100.csv', encoding='gbk', index=False)"
   ]
  },
  {
   "cell_type": "code",
   "execution_count": 33,
   "metadata": {
    "uuid": "a11d8fba-7c0f-4d99-a189-4765a2ebc5f5"
   },
   "outputs": [
    {
     "data": {
      "text/html": [
       "<div>\n",
       "<style scoped>\n",
       "    .dataframe tbody tr th:only-of-type {\n",
       "        vertical-align: middle;\n",
       "    }\n",
       "\n",
       "    .dataframe tbody tr th {\n",
       "        vertical-align: top;\n",
       "    }\n",
       "\n",
       "    .dataframe thead th {\n",
       "        text-align: right;\n",
       "    }\n",
       "</style>\n",
       "<table border=\"1\" class=\"dataframe\">\n",
       "  <thead>\n",
       "    <tr style=\"text-align: right;\">\n",
       "      <th></th>\n",
       "      <th>id</th>\n",
       "      <th>isDefault</th>\n",
       "    </tr>\n",
       "  </thead>\n",
       "  <tbody>\n",
       "    <tr>\n",
       "      <th>count</th>\n",
       "      <td>200000.000000</td>\n",
       "      <td>200000.000000</td>\n",
       "    </tr>\n",
       "    <tr>\n",
       "      <th>mean</th>\n",
       "      <td>899999.500000</td>\n",
       "      <td>0.439803</td>\n",
       "    </tr>\n",
       "    <tr>\n",
       "      <th>std</th>\n",
       "      <td>57735.171256</td>\n",
       "      <td>0.205587</td>\n",
       "    </tr>\n",
       "    <tr>\n",
       "      <th>min</th>\n",
       "      <td>800000.000000</td>\n",
       "      <td>0.002141</td>\n",
       "    </tr>\n",
       "    <tr>\n",
       "      <th>25%</th>\n",
       "      <td>849999.750000</td>\n",
       "      <td>0.279259</td>\n",
       "    </tr>\n",
       "    <tr>\n",
       "      <th>50%</th>\n",
       "      <td>899999.500000</td>\n",
       "      <td>0.435863</td>\n",
       "    </tr>\n",
       "    <tr>\n",
       "      <th>75%</th>\n",
       "      <td>949999.250000</td>\n",
       "      <td>0.594709</td>\n",
       "    </tr>\n",
       "    <tr>\n",
       "      <th>max</th>\n",
       "      <td>999999.000000</td>\n",
       "      <td>0.962894</td>\n",
       "    </tr>\n",
       "  </tbody>\n",
       "</table>\n",
       "</div>"
      ],
      "text/plain": [
       "                  id      isDefault\n",
       "count  200000.000000  200000.000000\n",
       "mean   899999.500000       0.439803\n",
       "std     57735.171256       0.205587\n",
       "min    800000.000000       0.002141\n",
       "25%    849999.750000       0.279259\n",
       "50%    899999.500000       0.435863\n",
       "75%    949999.250000       0.594709\n",
       "max    999999.000000       0.962894"
      ]
     },
     "execution_count": 33,
     "metadata": {},
     "output_type": "execute_result"
    }
   ],
   "source": [
    "df_result.describe()"
   ]
  },
  {
   "cell_type": "code",
   "execution_count": null,
   "metadata": {
    "uuid": "1f6416dc-a712-466a-877e-e9af9b32d845"
   },
   "outputs": [],
   "source": []
  },
  {
   "cell_type": "code",
   "execution_count": 42,
   "metadata": {
    "uuid": "4661d21b-5287-4c95-81e3-3bb5e6e19ca8"
   },
   "outputs": [],
   "source": [
    "num_cols = [2,9,14]\n",
    "for data in [data_train,data_test_a]:\n",
    "#     for i in num_cols:\n",
    "#         for j in num_cols:\n",
    "#             data['new'+str(i)+'*'+str(j)]=data['n'+str(i)]*data['n'+str(j)]\n",
    "\n",
    "    for i in num_cols:\n",
    "        for j in num_cols:\n",
    "             data['new'+str(i)+'-'+str(j)]=data['n'+str(i)]-data['n'+str(j)]\n",
    "    for i in num_cols:\n",
    "        for j in num_cols:\n",
    "             data['new'+str(i)+'+'+str(j)]=data['n'+str(i)]+data['n'+str(j)]"
   ]
  },
  {
   "cell_type": "code",
   "execution_count": null,
   "metadata": {
    "uuid": "c2931b5f-66b9-470f-bc1c-b497adc6b563"
   },
   "outputs": [],
   "source": []
  },
  {
   "cell_type": "code",
   "execution_count": null,
   "metadata": {
    "uuid": "60c0e5e2-6b3b-43bd-9ab6-ad3a549af35d"
   },
   "outputs": [],
   "source": []
  },
  {
   "cell_type": "code",
   "execution_count": null,
   "metadata": {
    "uuid": "c67c596a-ce77-4094-a180-83b902b3c83e"
   },
   "outputs": [],
   "source": []
  },
  {
   "cell_type": "code",
   "execution_count": null,
   "metadata": {
    "uuid": "6e093002-9dec-45e4-819b-9c18f711beda"
   },
   "outputs": [],
   "source": []
  },
  {
   "cell_type": "code",
   "execution_count": null,
   "metadata": {
    "uuid": "7349f818-721c-439f-ac8b-51e9bd027802"
   },
   "outputs": [],
   "source": []
  },
  {
   "cell_type": "code",
   "execution_count": null,
   "metadata": {
    "uuid": "4509d123-d3e4-4b6b-8c6f-c90e920d4eda"
   },
   "outputs": [],
   "source": []
  },
  {
   "cell_type": "code",
   "execution_count": null,
   "metadata": {
    "uuid": "76ae0c13-8e47-4131-b0ec-10f9a089c383"
   },
   "outputs": [],
   "source": []
  },
  {
   "cell_type": "code",
   "execution_count": null,
   "metadata": {
    "uuid": "15a11ed1-df25-4c13-a15f-1e29fc79bf21"
   },
   "outputs": [],
   "source": []
  },
  {
   "cell_type": "code",
   "execution_count": 37,
   "metadata": {
    "uuid": "d495e9c2-fd39-44d5-87de-5016f0fbdced"
   },
   "outputs": [
    {
     "data": {
      "text/plain": [
       "array([ 27.,  18.,  28.,  52.,  23.,  33.,  21.,  63.,  15.,  38.,  14.,\n",
       "        25.,  11.,  49.,  10.,  29.,  57.,  31.,  19.,  35.,  24.,  30.,\n",
       "        17.,  32.,  12.,  13.,   7.,  16.,  22.,  26.,  45.,  78.,  20.,\n",
       "        37.,  39.,  62.,   9.,  70.,  53.,  44.,   8.,  36.,  40.,  46.,\n",
       "        42.,  43.,  51.,  34.,   4.,   5.,  50.,  48.,  47.,  59.,  75.,\n",
       "        77.,  68.,  64.,  58.,   6.,  54.,  41.,  60.,  90.,  61.,  55.,\n",
       "        56.,  80.,  67.,   3.,  74.,  73.,  72.,  71.,  65.,  87.,  84.,\n",
       "        81.,  66.,  85.,  69.,  76.,   2.,  95.,  82.,  79.,  97.,  94.,\n",
       "       113.,  83.,  89.,  86.,  92., 106.,  93., 112., 110., 101., 120.,\n",
       "        91.,  88., 141., 104., 100., 103., 107., 105., 135., 118.,  98.,\n",
       "       146., 144., 151.,  96., 109., 122., 130., 150., 102., 124., 114.,\n",
       "       121., 133., 108., 140., 115.,  99., 137., 125., 162., 111., 126.,\n",
       "       117., 129.])"
      ]
     },
     "execution_count": 37,
     "metadata": {},
     "output_type": "execute_result"
    }
   ],
   "source": []
  },
  {
   "cell_type": "code",
   "execution_count": null,
   "metadata": {
    "uuid": "241b0db6-7f1f-47b6-b7f8-81db1646f0f9"
   },
   "outputs": [],
   "source": []
  },
  {
   "cell_type": "code",
   "execution_count": null,
   "metadata": {
    "uuid": "81782e0d-a693-4c5a-8d8c-32012044678c"
   },
   "outputs": [],
   "source": []
  }
 ],
 "metadata": {
  "kernelspec": {
   "display_name": "Python 3",
   "language": "python",
   "name": "python3"
  },
  "language_info": {
   "codemirror_mode": {
    "name": "ipython",
    "version": 3
   },
   "file_extension": ".py",
   "mimetype": "text/x-python",
   "name": "python",
   "nbconvert_exporter": "python",
   "pygments_lexer": "ipython3",
   "version": "3.7.3"
  }
 },
 "nbformat": 4,
 "nbformat_minor": 4
}
