{
 "cells": [
  {
   "cell_type": "code",
   "execution_count": 27,
   "metadata": {
    "uuid": "37a591ba-6fb5-4f33-b784-6c84f5f6a5bb"
   },
   "outputs": [],
   "source": [
    "import pandas as pd\n",
    "import numpy as np\n",
    "import matplotlib.pyplot as plt\n",
    "import datetime\n",
    "from sklearn.preprocessing import StandardScaler\n",
    "from sklearn.metrics import accuracy_score, f1_score, roc_auc_score, log_loss\n",
    "from sklearn.preprocessing import MinMaxScaler\n",
    "from catboost import CatBoostRegressor,CatBoostClassifier\n",
    "import warnings\n",
    "from sklearn.model_selection import StratifiedKFold, KFold\n",
    "warnings.filterwarnings('ignore')\n",
    "from sklearn.metrics import roc_curve"
   ]
  },
  {
   "cell_type": "code",
   "execution_count": 28,
   "metadata": {
    "uuid": "107727a1-8d8c-44c3-8a94-516efb1b53e4"
   },
   "outputs": [],
   "source": [
    "import pandas as pd\n",
    "import numpy as np\n",
    "import matplotlib.pyplot as plt\n",
    "import seaborn as sns\n",
    "import datetime\n",
    "from tqdm import tqdm\n",
    "from sklearn.preprocessing import LabelEncoder\n",
    "from sklearn.feature_selection import SelectKBest\n",
    "from sklearn.feature_selection import chi2\n",
    "from sklearn.preprocessing import MinMaxScaler\n",
    "import xgboost as xgb\n",
    "#import lightgbm as lgb\n",
    "from catboost import CatBoostRegressor\n",
    "import warnings\n",
    "from sklearn.model_selection import StratifiedKFold, KFold\n",
    "from sklearn.metrics import accuracy_score, f1_score, roc_auc_score, log_loss\n",
    "warnings.filterwarnings('ignore')\n",
    "#target encoding \n",
    "from category_encoders.target_encoder import TargetEncoder\n",
    "from category_encoders.glmm import GLMMEncoder\n",
    "from category_encoders.leave_one_out import LeaveOneOutEncoder\n",
    "from category_encoders.cat_boost import CatBoostEncoder"
   ]
  },
  {
   "cell_type": "code",
   "execution_count": 2,
   "metadata": {
    "uuid": "5bc1f260-b30f-4186-a7b8-b2ba4865cca5"
   },
   "outputs": [],
   "source": [
    "data_train =pd.read_csv('../金融风控/train.csv')\n",
    "data_test_a = pd.read_csv('../金融风控/testA.csv')"
   ]
  },
  {
   "cell_type": "code",
   "execution_count": 4,
   "metadata": {
    "uuid": "f0d3b733-d0f5-4945-b753-2e4d3949b97d"
   },
   "outputs": [],
   "source": [
    "#数据处理"
   ]
  },
  {
   "cell_type": "code",
   "execution_count": 5,
   "metadata": {
    "uuid": "e54a65fd-6be1-4df6-acf8-b6e860b1f5f1"
   },
   "outputs": [],
   "source": [
    "def preprocessForCat(data_train,data_test_a):\n",
    "    numerical_fea = list(data_train.select_dtypes(exclude=['object']).columns)\n",
    "    category_fea = list(filter(lambda x: x not in numerical_fea,list(data_train.columns)))\n",
    "    label = 'isDefault'\n",
    "    numerical_fea.remove(label)\n",
    "    #issueDate labelencoding\n",
    "    le = LabelEncoder()\n",
    "    le.fit(data_train.issueDate)\n",
    "    def employmentLength_to_int(s):\n",
    "        if pd.isnull(s):\n",
    "            return s\n",
    "        else:\n",
    "            return np.int8(s.split()[0])\n",
    "    for data in [data_train, data_test_a]:\n",
    "        data['earliesCreditLine'] = data['earliesCreditLine'].apply(lambda s: int(s[-4:]))\n",
    "        data['issueDate'] = pd.to_datetime(data['issueDate'])\n",
    "        #计算每行空值个数\n",
    "        data['missrate'] = data.isnull().sum(axis=1)/len(data_train.columns)\n",
    "        #employmentlength\n",
    "        data['employmentLength'].replace(to_replace='10+ years', value='10 years', inplace=True)\n",
    "        data['employmentLength'].replace('< 1 year', '0 years', inplace=True)\n",
    "        data['employmentLength'] = data['employmentLength'].apply(employmentLength_to_int)\n",
    "        data.drop(['n3','policyCode'], axis=1,inplace=True)\n",
    "    #纵向用缺失值上面的值替换缺失值\n",
    "    data_train = data_train.fillna(axis=0,method='ffill')\n",
    "    data_train.to_csv('02/train_cat_cleaned.csv',index = False)\n",
    "    data_test_a.to_csv('02/test_a_cat_cleaned.csv',index = False)"
   ]
  },
  {
   "cell_type": "code",
   "execution_count": 9,
   "metadata": {
    "uuid": "43db37a0-7542-4833-8b6b-cf3931203ff1"
   },
   "outputs": [
    {
     "ename": "TypeError",
     "evalue": "'int' object is not subscriptable",
     "output_type": "error",
     "traceback": [
      "\u001b[0;31m---------------------------------------------------------------------------\u001b[0m",
      "\u001b[0;31mTypeError\u001b[0m                                 Traceback (most recent call last)",
      "\u001b[0;32m<ipython-input-9-11a16a23a6cc>\u001b[0m in \u001b[0;36m<module>\u001b[0;34m\u001b[0m\n\u001b[0;32m----> 1\u001b[0;31m \u001b[0mpreprocessForCat\u001b[0m\u001b[0;34m(\u001b[0m\u001b[0mdata_train\u001b[0m\u001b[0;34m,\u001b[0m\u001b[0mdata_test_a\u001b[0m\u001b[0;34m)\u001b[0m\u001b[0;34m\u001b[0m\u001b[0m\n\u001b[0m",
      "\u001b[0;32m<ipython-input-5-08f9458f7185>\u001b[0m in \u001b[0;36mpreprocessForCat\u001b[0;34m(data_train, data_test_a)\u001b[0m\n\u001b[1;32m     13\u001b[0m             \u001b[0;32mreturn\u001b[0m \u001b[0mnp\u001b[0m\u001b[0;34m.\u001b[0m\u001b[0mint8\u001b[0m\u001b[0;34m(\u001b[0m\u001b[0ms\u001b[0m\u001b[0;34m.\u001b[0m\u001b[0msplit\u001b[0m\u001b[0;34m(\u001b[0m\u001b[0;34m)\u001b[0m\u001b[0;34m[\u001b[0m\u001b[0;36m0\u001b[0m\u001b[0;34m]\u001b[0m\u001b[0;34m)\u001b[0m\u001b[0;34m\u001b[0m\u001b[0m\n\u001b[1;32m     14\u001b[0m     \u001b[0;32mfor\u001b[0m \u001b[0mdata\u001b[0m \u001b[0;32min\u001b[0m \u001b[0;34m[\u001b[0m\u001b[0mdata_train\u001b[0m\u001b[0;34m,\u001b[0m \u001b[0mdata_test_a\u001b[0m\u001b[0;34m]\u001b[0m\u001b[0;34m:\u001b[0m\u001b[0;34m\u001b[0m\u001b[0m\n\u001b[0;32m---> 15\u001b[0;31m         \u001b[0mdata\u001b[0m\u001b[0;34m[\u001b[0m\u001b[0;34m'earliesCreditLine'\u001b[0m\u001b[0;34m]\u001b[0m \u001b[0;34m=\u001b[0m \u001b[0mdata\u001b[0m\u001b[0;34m[\u001b[0m\u001b[0;34m'earliesCreditLine'\u001b[0m\u001b[0;34m]\u001b[0m\u001b[0;34m.\u001b[0m\u001b[0mapply\u001b[0m\u001b[0;34m(\u001b[0m\u001b[0;32mlambda\u001b[0m \u001b[0ms\u001b[0m\u001b[0;34m:\u001b[0m \u001b[0mint\u001b[0m\u001b[0;34m(\u001b[0m\u001b[0ms\u001b[0m\u001b[0;34m[\u001b[0m\u001b[0;34m-\u001b[0m\u001b[0;36m4\u001b[0m\u001b[0;34m:\u001b[0m\u001b[0;34m]\u001b[0m\u001b[0;34m)\u001b[0m\u001b[0;34m)\u001b[0m\u001b[0;34m\u001b[0m\u001b[0m\n\u001b[0m\u001b[1;32m     16\u001b[0m         \u001b[0mdata\u001b[0m\u001b[0;34m[\u001b[0m\u001b[0;34m'issueDate'\u001b[0m\u001b[0;34m]\u001b[0m \u001b[0;34m=\u001b[0m \u001b[0mpd\u001b[0m\u001b[0;34m.\u001b[0m\u001b[0mto_datetime\u001b[0m\u001b[0;34m(\u001b[0m\u001b[0mdata\u001b[0m\u001b[0;34m[\u001b[0m\u001b[0;34m'issueDate'\u001b[0m\u001b[0;34m]\u001b[0m\u001b[0;34m)\u001b[0m\u001b[0;34m\u001b[0m\u001b[0m\n\u001b[1;32m     17\u001b[0m         \u001b[0;31m#计算每行空值个数\u001b[0m\u001b[0;34m\u001b[0m\u001b[0;34m\u001b[0m\u001b[0m\n",
      "\u001b[0;32m~/.local/lib/python3.6/site-packages/pandas/core/series.py\u001b[0m in \u001b[0;36mapply\u001b[0;34m(self, func, convert_dtype, args, **kwds)\u001b[0m\n\u001b[1;32m   4198\u001b[0m             \u001b[0;32melse\u001b[0m\u001b[0;34m:\u001b[0m\u001b[0;34m\u001b[0m\u001b[0m\n\u001b[1;32m   4199\u001b[0m                 \u001b[0mvalues\u001b[0m \u001b[0;34m=\u001b[0m \u001b[0mself\u001b[0m\u001b[0;34m.\u001b[0m\u001b[0mastype\u001b[0m\u001b[0;34m(\u001b[0m\u001b[0mobject\u001b[0m\u001b[0;34m)\u001b[0m\u001b[0;34m.\u001b[0m\u001b[0m_values\u001b[0m\u001b[0;34m\u001b[0m\u001b[0m\n\u001b[0;32m-> 4200\u001b[0;31m                 \u001b[0mmapped\u001b[0m \u001b[0;34m=\u001b[0m \u001b[0mlib\u001b[0m\u001b[0;34m.\u001b[0m\u001b[0mmap_infer\u001b[0m\u001b[0;34m(\u001b[0m\u001b[0mvalues\u001b[0m\u001b[0;34m,\u001b[0m \u001b[0mf\u001b[0m\u001b[0;34m,\u001b[0m \u001b[0mconvert\u001b[0m\u001b[0;34m=\u001b[0m\u001b[0mconvert_dtype\u001b[0m\u001b[0;34m)\u001b[0m\u001b[0;34m\u001b[0m\u001b[0m\n\u001b[0m\u001b[1;32m   4201\u001b[0m \u001b[0;34m\u001b[0m\u001b[0m\n\u001b[1;32m   4202\u001b[0m         \u001b[0;32mif\u001b[0m \u001b[0mlen\u001b[0m\u001b[0;34m(\u001b[0m\u001b[0mmapped\u001b[0m\u001b[0;34m)\u001b[0m \u001b[0;32mand\u001b[0m \u001b[0misinstance\u001b[0m\u001b[0;34m(\u001b[0m\u001b[0mmapped\u001b[0m\u001b[0;34m[\u001b[0m\u001b[0;36m0\u001b[0m\u001b[0;34m]\u001b[0m\u001b[0;34m,\u001b[0m \u001b[0mSeries\u001b[0m\u001b[0;34m)\u001b[0m\u001b[0;34m:\u001b[0m\u001b[0;34m\u001b[0m\u001b[0m\n",
      "\u001b[0;32mpandas/_libs/lib.pyx\u001b[0m in \u001b[0;36mpandas._libs.lib.map_infer\u001b[0;34m()\u001b[0m\n",
      "\u001b[0;32m<ipython-input-5-08f9458f7185>\u001b[0m in \u001b[0;36m<lambda>\u001b[0;34m(s)\u001b[0m\n\u001b[1;32m     13\u001b[0m             \u001b[0;32mreturn\u001b[0m \u001b[0mnp\u001b[0m\u001b[0;34m.\u001b[0m\u001b[0mint8\u001b[0m\u001b[0;34m(\u001b[0m\u001b[0ms\u001b[0m\u001b[0;34m.\u001b[0m\u001b[0msplit\u001b[0m\u001b[0;34m(\u001b[0m\u001b[0;34m)\u001b[0m\u001b[0;34m[\u001b[0m\u001b[0;36m0\u001b[0m\u001b[0;34m]\u001b[0m\u001b[0;34m)\u001b[0m\u001b[0;34m\u001b[0m\u001b[0m\n\u001b[1;32m     14\u001b[0m     \u001b[0;32mfor\u001b[0m \u001b[0mdata\u001b[0m \u001b[0;32min\u001b[0m \u001b[0;34m[\u001b[0m\u001b[0mdata_train\u001b[0m\u001b[0;34m,\u001b[0m \u001b[0mdata_test_a\u001b[0m\u001b[0;34m]\u001b[0m\u001b[0;34m:\u001b[0m\u001b[0;34m\u001b[0m\u001b[0m\n\u001b[0;32m---> 15\u001b[0;31m         \u001b[0mdata\u001b[0m\u001b[0;34m[\u001b[0m\u001b[0;34m'earliesCreditLine'\u001b[0m\u001b[0;34m]\u001b[0m \u001b[0;34m=\u001b[0m \u001b[0mdata\u001b[0m\u001b[0;34m[\u001b[0m\u001b[0;34m'earliesCreditLine'\u001b[0m\u001b[0;34m]\u001b[0m\u001b[0;34m.\u001b[0m\u001b[0mapply\u001b[0m\u001b[0;34m(\u001b[0m\u001b[0;32mlambda\u001b[0m \u001b[0ms\u001b[0m\u001b[0;34m:\u001b[0m \u001b[0mint\u001b[0m\u001b[0;34m(\u001b[0m\u001b[0ms\u001b[0m\u001b[0;34m[\u001b[0m\u001b[0;34m-\u001b[0m\u001b[0;36m4\u001b[0m\u001b[0;34m:\u001b[0m\u001b[0;34m]\u001b[0m\u001b[0;34m)\u001b[0m\u001b[0;34m)\u001b[0m\u001b[0;34m\u001b[0m\u001b[0m\n\u001b[0m\u001b[1;32m     16\u001b[0m         \u001b[0mdata\u001b[0m\u001b[0;34m[\u001b[0m\u001b[0;34m'issueDate'\u001b[0m\u001b[0;34m]\u001b[0m \u001b[0;34m=\u001b[0m \u001b[0mpd\u001b[0m\u001b[0;34m.\u001b[0m\u001b[0mto_datetime\u001b[0m\u001b[0;34m(\u001b[0m\u001b[0mdata\u001b[0m\u001b[0;34m[\u001b[0m\u001b[0;34m'issueDate'\u001b[0m\u001b[0;34m]\u001b[0m\u001b[0;34m)\u001b[0m\u001b[0;34m\u001b[0m\u001b[0m\n\u001b[1;32m     17\u001b[0m         \u001b[0;31m#计算每行空值个数\u001b[0m\u001b[0;34m\u001b[0m\u001b[0;34m\u001b[0m\u001b[0m\n",
      "\u001b[0;31mTypeError\u001b[0m: 'int' object is not subscriptable"
     ]
    }
   ],
   "source": [
    "preprocessForCat(data_train,data_test_a)"
   ]
  },
  {
   "cell_type": "code",
   "execution_count": 13,
   "metadata": {
    "uuid": "4552bbd7-1d87-4317-bcf0-45d2b7a6bc8d"
   },
   "outputs": [],
   "source": [
    "#*****************************************cat************************************************************"
   ]
  },
  {
   "cell_type": "code",
   "execution_count": 4,
   "metadata": {
    "uuid": "41da2d25-1bd9-443a-b484-c164413fc9d9"
   },
   "outputs": [],
   "source": [
    "data_train =pd.read_csv('02/train_cat_cleaned.csv')\n",
    "data_test_a = pd.read_csv('02/test_a_cat_cleaned.csv')\n",
    "data_test_a_id = pd.read_csv('../金融风控/testA.csv')"
   ]
  },
  {
   "cell_type": "code",
   "execution_count": 5,
   "metadata": {
    "uuid": "7ef7934c-2f05-425c-a5e6-9f75a6dd71e1"
   },
   "outputs": [],
   "source": [
    "# dic_month = {'Jan':'01', 'Feb':'02', 'Mar':'03', 'Apr':'04', 'May':'05', 'Jun':'06', 'Jul':'07', 'Aug':'08', 'Sep':'09', 'Oct':'10', 'Nov':'11', 'Dec':'12'}\n",
    "\n",
    "# def get_month_year(str):\n",
    "#   month = list(str)[0] + list(str)[1] + list(str)[2]\n",
    "#   month = dic_month[month]\n",
    "#   year = list(str)[-4] + list(str)[-3] + list(str)[-2] + list(str)[-1]\n",
    "#   date = year + '-' + month + '-' + '01'\n",
    "#   return date\n",
    "\n",
    "\n",
    "# train_data['earliesCreditLine_date'] = train_data['earliesCreditLine'].apply(lambda x : get_month_year(x))\n",
    "# test_data['earliesCreditLine_date'] = test_data['earliesCreditLine'].apply(lambda x : get_month_year(x))"
   ]
  },
  {
   "cell_type": "code",
   "execution_count": 6,
   "metadata": {
    "uuid": "947ef504-e4dc-43be-a2c0-81e59321656c"
   },
   "outputs": [],
   "source": [
    "for data in [data_train , data_test_a]:\n",
    "    data['earliesCreditLineDT'] = data['earliesCreditLine'] - 1944"
   ]
  },
  {
   "cell_type": "code",
   "execution_count": 7,
   "metadata": {
    "uuid": "8044a118-4be0-41c0-8446-a027d15bb558"
   },
   "outputs": [],
   "source": [
    "for data in [data_train , data_test_a]:\n",
    "    data['issueDate_2'] = data['issueDate'].apply(lambda x : int(x[:4]))"
   ]
  },
  {
   "cell_type": "code",
   "execution_count": 8,
   "metadata": {
    "uuid": "929a6b7d-8a6f-43fc-916d-6ef84bead999"
   },
   "outputs": [],
   "source": [
    "#转化成时间格式\n",
    "for data in [data_train, data_test_a]:\n",
    "    data['issueDate'] = pd.to_datetime(data['issueDate'],format='%Y-%m-%d')\n",
    "    startdate = datetime.datetime.strptime('2007-06-01', '%Y-%m-%d')\n",
    "    #构造时间特征\n",
    "    data['issueDateDT'] = data['issueDate'].apply(lambda x: x-startdate).dt.days"
   ]
  },
  {
   "cell_type": "code",
   "execution_count": 9,
   "metadata": {
    "uuid": "e690481d-9f98-45db-a010-e987f9d93b45"
   },
   "outputs": [],
   "source": [
    "data_test_a['months']=(pd.to_datetime(data_test_a['issueDate'])-pd.to_datetime(data_test_a['earliesCreditLine'])).map(lambda x:round(x.days/30)).astype('int')\n",
    "data_train['months']=(pd.to_datetime(data_train['issueDate'])-pd.to_datetime(data_train['earliesCreditLine'])).map(lambda x:round(x.days/30)).astype('int')"
   ]
  },
  {
   "cell_type": "code",
   "execution_count": 10,
   "metadata": {
    "uuid": "8a0980a5-fe4e-469d-ac33-a0b7cfb06db2"
   },
   "outputs": [],
   "source": [
    "data_train['years'] = (data_train['months'] / 12 ).astype('int')\n",
    "data_test_a['years'] = (data_test_a['months'] / 12 ).astype('int')"
   ]
  },
  {
   "cell_type": "code",
   "execution_count": 11,
   "metadata": {
    "uuid": "851cfd9d-cadc-4c56-b1a1-3c18bdc9ce75"
   },
   "outputs": [],
   "source": [
    "for data_all in [data_train ,data_test_a]:\n",
    "    data_all['issueDate']=pd.to_datetime(data_all['issueDate'], errors='coerce')\n",
    "    data_all['issueDate_1']=((data_all['issueDate'].max()-data_all['issueDate']).dt.days/365).astype('int')\n",
    "    data_all['issueDate_3']=((data_all['issueDate'].max()-data_all['issueDate']).dt.days/365).astype('int')"
   ]
  },
  {
   "cell_type": "code",
   "execution_count": 12,
   "metadata": {
    "uuid": "79712771-ecb5-4d9c-8c5f-c35dd392b056"
   },
   "outputs": [],
   "source": [
    "for data_all in [data_train ,data_test_a]:\n",
    "    data_all['earliesCreditLine']=pd.to_datetime(data_all['earliesCreditLine'], errors='coerce')\n",
    "    data_all['earliesCreditLine_2']=((data_all['issueDate'].max()-data_all['earliesCreditLine']).dt.days/30).astype('int')\n",
    "    data_all['earliesCreditLine_1']=((data_all['issueDate'].max()-data_all['earliesCreditLine']).dt.days/365).astype('int')\n",
    "#     data_all['earliesCreditLine_2']=(data_all['issueDate']-data_all['earliesCreditLine']).dt.days/365"
   ]
  },
  {
   "cell_type": "code",
   "execution_count": 13,
   "metadata": {
    "uuid": "1315c062-893f-4e37-b841-f656c6ee07eb"
   },
   "outputs": [],
   "source": [
    "grade_mapping = {\"A\": 1, \n",
    "                 \"B\": 2, \n",
    "                 \"C\": 3, \n",
    "                 \"D\": 4,\n",
    "                 \"E\": 5, \n",
    "                 \"F\": 6, \n",
    "                 \"G\": 7,}\n",
    "for data_all in [data_train ,data_test_a]:\n",
    "    data_all['grade']=data_all.grade.map(grade_mapping)"
   ]
  },
  {
   "cell_type": "code",
   "execution_count": 14,
   "metadata": {
    "uuid": "ca022ab3-e2b0-4901-a8d2-7c7d6284277a"
   },
   "outputs": [],
   "source": [
    "#新特征\n",
    "for data_all in [data_train , data_test_a]:\n",
    "    data_all['subGrade'] = data_all['subGrade'].map({'A1':1,'A2':2,'A3':3,'A4':4,'A5':5,'B1':6,'B2':7,'B3':8,'B4':9,'B5':10,'C1':11,'C2':12,'C3':13,'C4':14,'C5':15\n",
    "                                      ,'D1':16,'D2':17,'D3':18,'D4':19,'D5':20,'E1':21,'E2':22,'E3':23,'E4':24,'E5':25,'F1':26,'F2':27,'F3':28,'F4':29,'F5':30\n",
    "                                      ,'G1':31,'G2':32,'G3':33,'G4':34,'G5':35})"
   ]
  },
  {
   "cell_type": "code",
   "execution_count": 15,
   "metadata": {
    "uuid": "ea0977cf-c825-4524-98df-c177b47d8a0a"
   },
   "outputs": [],
   "source": [
    "#purpose的逾期情况 转换成概率 不行\n",
    "grade_risk = data_train.groupby('regionCode')['isDefault'].agg(all_sum = np.size, bad_sum = np.sum)\n",
    "#purpose的逾期率\n",
    "grade_risk['逾期率'] = grade_risk['bad_sum']/grade_risk['all_sum']\n",
    "list_1 = list(grade_risk['逾期率'])\n",
    "list_2 = sorted(list_1)\n",
    "dict_1 = {}\n",
    "for i in range(51):\n",
    "    dict_1[i] = list_2.index(list_1[i]) + 1\n",
    "for data_all in [data_train , data_test_a]:\n",
    "    data_all['regionCode'] = data_all['regionCode'].map(dict_1)"
   ]
  },
  {
   "cell_type": "code",
   "execution_count": 16,
   "metadata": {
    "uuid": "6a75e383-555f-4b93-a0da-99a71f9c72de"
   },
   "outputs": [],
   "source": [
    "#purpose的逾期情况 转换成概率\n",
    "grade_risk = data_train.groupby('purpose')['isDefault'].agg(all_sum = np.size, bad_sum = np.sum)\n",
    "#purpose的逾期率\n",
    "grade_risk['逾期率'] = grade_risk['bad_sum']/grade_risk['all_sum']\n",
    "list_1 = list(grade_risk['逾期率'])\n",
    "list_2 = sorted(list_1)\n",
    "dict_1 = {}\n",
    "for i in range(14):\n",
    "    dict_1[i] = list_2.index(list_1[i])  + 1\n",
    "for data_all in [data_train , data_test_a]:\n",
    "    data_all['purpose'] = data_all['purpose'].map(dict_1)"
   ]
  },
  {
   "cell_type": "code",
   "execution_count": 17,
   "metadata": {
    "uuid": "44d2141e-f797-4dae-bf97-f54452cf9609"
   },
   "outputs": [],
   "source": [
    "dict_1 = {}\n",
    "for i in range(38):\n",
    "    x = 845 - i*5\n",
    "    dict_1[x] = i + 1\n",
    "dict_1[630] = 39\n",
    "dict_1[625] = 39\n",
    "for data in [data_train , data_test_a]:\n",
    "    data['ficoRangeLow'] = data['ficoRangeLow'].map(dict_1)\n",
    "#     data.drop(['ficoRangeHigh'] , axis = 1 , inplace = True)"
   ]
  },
  {
   "cell_type": "code",
   "execution_count": null,
   "metadata": {
    "uuid": "c54b1b69-cd4b-4ff5-b694-640f6cfbf56f"
   },
   "outputs": [],
   "source": []
  },
  {
   "cell_type": "code",
   "execution_count": 17,
   "metadata": {
    "uuid": "a5b5f148-1e67-4f05-b721-9393ff850df9"
   },
   "outputs": [],
   "source": [
    "# cate_features = [ 'employmentTitle', 'homeOwnership', 'verificationStatus',  'postCode', \\\n",
    "#                   'applicationType', 'initialListStatus', 'title','employmentLength'\n",
    "#                 ,'issueDate_1' , 'earliesCreditLine_1' , 'months','ficoRangeLow','earliesCreditLineDT'\n",
    "#                 ,'term']\n"
   ]
  },
  {
   "cell_type": "code",
   "execution_count": 18,
   "metadata": {
    "uuid": "0c81b6f1-c6d2-46e6-a65a-28af8e8f2883"
   },
   "outputs": [],
   "source": [
    "# for data in [data_train , data_test_a]:\n",
    "#     data['r_r'] = data['revolBal'] * data['revolUtil'] *0.01"
   ]
  },
  {
   "cell_type": "code",
   "execution_count": 19,
   "metadata": {
    "uuid": "c1317447-e03c-4f56-a778-81125fc461a3"
   },
   "outputs": [],
   "source": [
    "# dict_1 = data_train.groupby('postCode')['dti'].mean()\n",
    "# for data in [data_train , data_test_a]:\n",
    "#     data['p_t'] = data['postCode'].map(dict_1)"
   ]
  },
  {
   "cell_type": "code",
   "execution_count": 20,
   "metadata": {
    "uuid": "97d6105a-152d-4d58-9dfe-56341267a5fd"
   },
   "outputs": [],
   "source": [
    "# data_test_a['revolUtil'] = data_test_a['revolUtil'].fillna(data_test_a['revolUtil'].mean())\n",
    "# for data in [data_train , data_test_a]:\n",
    "#     data['revolUtil_1'] = data['revolUtil'].astype('int')"
   ]
  },
  {
   "cell_type": "code",
   "execution_count": 21,
   "metadata": {
    "uuid": "574078f4-9dcd-4fe6-a7cb-3c0857a1023e"
   },
   "outputs": [],
   "source": [
    "# 'n0' , 'n1' , 'n2' , 'n4' , 'n5' , 'n6' , 'n7' , 'n8' , 'n9' ,'n10' , 'n11' ,'n12' ,'n13' ,'n14'"
   ]
  },
  {
   "cell_type": "code",
   "execution_count": 18,
   "metadata": {
    "uuid": "63cb1bb5-d667-433a-a0b1-36eab0db5770"
   },
   "outputs": [],
   "source": [
    "for data in [data_train , data_test_a]:\n",
    "    data['employmentLength'] = data['employmentLength'].astype('str')"
   ]
  },
  {
   "cell_type": "code",
   "execution_count": 23,
   "metadata": {
    "uuid": "4d80efc3-e971-4e33-a382-43d50406311b"
   },
   "outputs": [],
   "source": [
    "# cate_features = ['grade', 'subGrade', 'employmentTitle', 'homeOwnership', 'verificationStatus', 'purpose', \n",
    "#                  'postCode', 'regionCode', 'applicationType', 'initialListStatus', 'title','employmentLength'\n",
    "#              ,'ficoRangeLow','term' ]\n"
   ]
  },
  {
   "cell_type": "code",
   "execution_count": 19,
   "metadata": {
    "uuid": "1581c5e5-1603-4b8a-b30c-de43005b6335"
   },
   "outputs": [
    {
     "data": {
      "text/plain": [
       "Index(['id', 'loanAmnt', 'term', 'interestRate', 'installment', 'grade',\n",
       "       'subGrade', 'employmentTitle', 'employmentLength', 'homeOwnership',\n",
       "       'annualIncome', 'verificationStatus', 'issueDate', 'isDefault',\n",
       "       'purpose', 'postCode', 'regionCode', 'dti', 'delinquency_2years',\n",
       "       'ficoRangeLow', 'ficoRangeHigh', 'openAcc', 'pubRec',\n",
       "       'pubRecBankruptcies', 'revolBal', 'revolUtil', 'totalAcc',\n",
       "       'initialListStatus', 'applicationType', 'earliesCreditLine', 'title',\n",
       "       'n0', 'n1', 'n2', 'n4', 'n5', 'n6', 'n7', 'n8', 'n9', 'n10', 'n11',\n",
       "       'n12', 'n13', 'n14', 'missrate', 'earliesCreditLineDT', 'issueDate_2',\n",
       "       'issueDateDT', 'months', 'years', 'issueDate_1', 'issueDate_3',\n",
       "       'earliesCreditLine_2', 'earliesCreditLine_1'],\n",
       "      dtype='object')"
      ]
     },
     "execution_count": 19,
     "metadata": {},
     "output_type": "execute_result"
    }
   ],
   "source": [
    "data_train.columns"
   ]
  },
  {
   "cell_type": "code",
   "execution_count": 75,
   "metadata": {
    "uuid": "55ac201b-529d-449a-8556-c69d21bbb8c6"
   },
   "outputs": [],
   "source": [
    "cate_features = [ 'loanAmnt', 'term', 'interestRate', 'installment', 'grade',\n",
    "       'subGrade', 'employmentTitle', 'employmentLength', 'homeOwnership',\n",
    "       'annualIncome', 'verificationStatus',  \n",
    "       'purpose', 'postCode', 'regionCode', 'dti', \n",
    "       'ficoRangeLow','openAcc', 'pubRec',\n",
    "       'pubRecBankruptcies', 'revolBal', 'revolUtil', 'totalAcc',\n",
    "       'initialListStatus', 'applicationType',  'title',\n",
    "       'missrate',  'issueDate_2',\n",
    "       'issueDateDT', 'months', 'years', 'issueDate_1', 'issueDate_3',\n",
    "       'earliesCreditLine_2', 'earliesCreditLine_1']"
   ]
  },
  {
   "cell_type": "code",
   "execution_count": 69,
   "metadata": {
    "uuid": "e17c7143-4736-494f-9734-1674de2a1641"
   },
   "outputs": [],
   "source": [
    "for i in data_train.columns:\n",
    "    if i in cate_features:\n",
    "        data_train[i] = data_train[i].astype('str')\n",
    "        data_test_a[i] = data_test_a[i].astype('str')"
   ]
  },
  {
   "cell_type": "code",
   "execution_count": 70,
   "metadata": {
    "uuid": "9a7c05ee-49e8-4f34-95d9-83aee8785743"
   },
   "outputs": [],
   "source": [
    "# # 0.7430的\n",
    "# cate_features = ['grade', 'subGrade', 'employmentTitle', 'homeOwnership', 'verificationStatus', 'purpose', 'postCode', \\\n",
    "#                  'regionCode', 'applicationType', 'initialListStatus', 'title','employmentLength'\n",
    "#                 ,'issueDate_1' , 'earliesCreditLine_1' , 'months','ficoRangeLow','earliesCreditLineDT'\n",
    "#                 ,'term','issueDate_2' ,'issueDate_3','earliesCreditLine_2']\n"
   ]
  },
  {
   "cell_type": "code",
   "execution_count": 60,
   "metadata": {
    "uuid": "8384a559-9e31-4cb0-b991-1e4eb9d07859"
   },
   "outputs": [],
   "source": [
    "# # 0.7430的\n",
    "# cate_features = ['grade', 'subGrade', 'employmentTitle', 'homeOwnership', 'verificationStatus', 'purpose', 'postCode', \\\n",
    "#                  'regionCode', 'applicationType', 'initialListStatus', 'title','employmentLength'\n",
    "#                 ,'issueDate_1' , 'earliesCreditLine_1' , 'months','ficoRangeLow','earliesCreditLineDT'\n",
    "#                 ,'term','issueDate_2','years' ]\n"
   ]
  },
  {
   "cell_type": "code",
   "execution_count": 62,
   "metadata": {
    "uuid": "97dc8ee1-7552-412f-aa45-b0384ae20fcd"
   },
   "outputs": [],
   "source": [
    "# for data in [data_train, data_test_a]:\n",
    "#     data[['employmentTitle','postCode','title','issueDate']] = data[['employmentTitle','postCode','title','issueDate']].astype('int')\n",
    "# #     data['employmentLength'] = data['employmentLength'].astype('str')"
   ]
  },
  {
   "cell_type": "code",
   "execution_count": 63,
   "metadata": {
    "uuid": "79eb0085-2e0f-4a51-bc3a-378e3dcde4be"
   },
   "outputs": [],
   "source": [
    "# pd.set_option('display.max_rows' , 200)"
   ]
  },
  {
   "cell_type": "code",
   "execution_count": 76,
   "metadata": {
    "uuid": "e16eb090-61a3-4918-a892-a0b306a973b7"
   },
   "outputs": [],
   "source": [
    "def cv_model(clf, train_x, train_y, test_x, clf_name):\n",
    "    folds = 5\n",
    "    seed = 2019\n",
    "    kf = KFold(n_splits=folds, shuffle=True, random_state=seed)\n",
    "    test_pred = []\n",
    "    trainindex = []\n",
    "    validndex = []\n",
    "    train = np.zeros(train_x.shape[0])\n",
    "    test = np.zeros(test_x.shape[0])\n",
    "\n",
    "    cv_scores = []\n",
    "\n",
    "    for i, (train_index, valid_index) in enumerate(kf.split(train_x, train_y)):\n",
    "        print('************************************ {} ************************************'.format(str(i+1)))\n",
    "        trn_x, trn_y, val_x, val_y = train_x.iloc[train_index], train_y[train_index], train_x.iloc[valid_index], train_y[valid_index]\n",
    "        trainindex.append(train_index)\n",
    "        validndex.append(valid_index)\n",
    "        if clf_name == \"cat\":\n",
    "            params = {'learning_rate': 0.05, 'depth':6, 'l2_leaf_reg': 15, 'bootstrap_type': 'No',\n",
    "                      'od_type': 'Iter', 'od_wait': 50, 'random_seed': 11, 'allow_writing_files': False,\n",
    "                      'class_weights' : {0:0.6246193725698402, 1: 2.506108639809536},'eval_metric':\"AUC\",\n",
    "                      'loss_function':'Logloss'}\n",
    "            \n",
    "            model = clf(iterations=20000,task_type=\"CPU\", **params)\n",
    "            #,gpu_ram_part=0.9,gpu_cat_features_storage = 'CpuPinnedMemory',max_ctr_complexity=1\n",
    "            model.fit(trn_x, trn_y, eval_set=(val_x, val_y),\n",
    "                      cat_features=cate_features, use_best_model=True, verbose=500)\n",
    "        \n",
    "            val_pred  = model.predict_proba(val_x)[:,1]\n",
    "            test_pred_ = model.predict_proba(test_x)[:,1]\n",
    "            test_pred.append(test_pred_)\n",
    "            pd.DataFrame(test_pred_).to_csv('pre'+str(i)+'.csv')\n",
    "            \n",
    "        train[valid_index] = val_pred\n",
    "#         test = test_pred / kf.n_splits\n",
    "#         cv_scores.append(roc_auc_score(val_y, val_pred))\n",
    "        FPR,TPR,thresholds=roc_curve(val_y, val_pred)\n",
    "        KS=abs(FPR-TPR).max()\n",
    "        print('KS值：',KS)\n",
    "\n",
    "        print(cv_scores)\n",
    "        \n",
    "    print(\"%s_scotrainre_list:\" % clf_name, cv_scores)\n",
    "    print(\"%s_score_mean:\" % clf_name, np.mean(cv_scores))\n",
    "    print(\"%s_score_std:\" % clf_name, np.std(cv_scores))\n",
    "    return train, test"
   ]
  },
  {
   "cell_type": "code",
   "execution_count": 77,
   "metadata": {
    "uuid": "ba5991c0-4b07-4562-98c9-e8ad11466bb5"
   },
   "outputs": [],
   "source": [
    "def cat_model(x_train, y_train, x_test):\n",
    "    cat_train, cat_test = cv_model(CatBoostClassifier, x_train, y_train, x_test, \"cat\")\n",
    "    return cat_train, cat_test"
   ]
  },
  {
   "cell_type": "code",
   "execution_count": 78,
   "metadata": {
    "uuid": "ee757524-0c1c-4771-a04d-73052b2d4e4c"
   },
   "outputs": [],
   "source": [
    "features = [f for f in data_train.columns if f not in ['id','isDefault','issueDate' , 'earliesCreditLine']]\n",
    "x_train = data_train[features]\n",
    "x_test = data_test_a[features]\n",
    "y_train = data_train['isDefault']"
   ]
  },
  {
   "cell_type": "code",
   "execution_count": null,
   "metadata": {
    "uuid": "aa0cc422-1132-4883-814e-2aa0c1ba8f25"
   },
   "outputs": [
    {
     "name": "stdout",
     "output_type": "stream",
     "text": [
      "************************************ 1 ************************************\n",
      "0:\ttest: 0.6998178\tbest: 0.6998178 (0)\ttotal: 780ms\tremaining: 4h 19m 53s\n",
      "500:\ttest: 0.7366084\tbest: 0.7366084 (500)\ttotal: 9m 46s\tremaining: 6h 20m 18s\n",
      "1000:\ttest: 0.7388869\tbest: 0.7388910 (995)\ttotal: 20m 11s\tremaining: 6h 23m 13s\n",
      "1500:\ttest: 0.7397284\tbest: 0.7397284 (1500)\ttotal: 31m 29s\tremaining: 6h 28m 11s\n",
      "2000:\ttest: 0.7400872\tbest: 0.7400915 (1993)\ttotal: 42m 39s\tremaining: 6h 23m 42s\n",
      "Stopped by overfitting detector  (50 iterations wait)\n",
      "\n",
      "bestTest = 0.7401528038\n",
      "bestIteration = 2125\n",
      "\n",
      "Shrink model to first 2126 iterations.\n",
      "KS值： 0.3522319392413997\n",
      "[]\n",
      "************************************ 2 ************************************\n",
      "0:\ttest: 0.7064283\tbest: 0.7064283 (0)\ttotal: 790ms\tremaining: 4h 23m 9s\n"
     ]
    }
   ],
   "source": [
    "cat_train, cat_test = cat_model(x_train, y_train, x_test)"
   ]
  },
  {
   "cell_type": "code",
   "execution_count": 45,
   "metadata": {
    "uuid": "3a30ee55-af96-4232-a347-7feb62d01790"
   },
   "outputs": [],
   "source": [
    "data_train_1 = pd.read_csv('pre0.csv')\n",
    "data_train_2 = pd.read_csv('pre1.csv')\n",
    "data_train_3 = pd.read_csv('pre2.csv')\n",
    "data_train_4 = pd.read_csv('pre3.csv')\n",
    "data_train_5 = pd.read_csv('pre4.csv')\n",
    "data_train_6 = data_train_1['0'] + data_train_2['0'] + data_train_3['0'] +  data_train_4['0'] + data_train_5['0']\n",
    "data_train_6 = data_train_6 / 5\n",
    "data_sample = pd.read_csv('../金融风控/sample.csv')\n",
    "\"\"\"生成提交格式的DataFrame\"\"\"\n",
    "df_result = pd.DataFrame({'id': data_sample.loc[:, 'id'].values, 'isDefault': data_train_6})\n",
    "\"\"\"保存数据用于预测建模\"\"\"\n",
    "df_result.to_csv('100.csv', encoding='gbk', index=False)"
   ]
  },
  {
   "cell_type": "code",
   "execution_count": 33,
   "metadata": {
    "uuid": "275f531e-51d1-4847-be75-a204644f63e3"
   },
   "outputs": [
    {
     "data": {
      "text/html": [
       "<div>\n",
       "<style scoped>\n",
       "    .dataframe tbody tr th:only-of-type {\n",
       "        vertical-align: middle;\n",
       "    }\n",
       "\n",
       "    .dataframe tbody tr th {\n",
       "        vertical-align: top;\n",
       "    }\n",
       "\n",
       "    .dataframe thead th {\n",
       "        text-align: right;\n",
       "    }\n",
       "</style>\n",
       "<table border=\"1\" class=\"dataframe\">\n",
       "  <thead>\n",
       "    <tr style=\"text-align: right;\">\n",
       "      <th></th>\n",
       "      <th>id</th>\n",
       "      <th>isDefault</th>\n",
       "    </tr>\n",
       "  </thead>\n",
       "  <tbody>\n",
       "    <tr>\n",
       "      <th>count</th>\n",
       "      <td>200000.000000</td>\n",
       "      <td>200000.000000</td>\n",
       "    </tr>\n",
       "    <tr>\n",
       "      <th>mean</th>\n",
       "      <td>899999.500000</td>\n",
       "      <td>0.439803</td>\n",
       "    </tr>\n",
       "    <tr>\n",
       "      <th>std</th>\n",
       "      <td>57735.171256</td>\n",
       "      <td>0.205587</td>\n",
       "    </tr>\n",
       "    <tr>\n",
       "      <th>min</th>\n",
       "      <td>800000.000000</td>\n",
       "      <td>0.002141</td>\n",
       "    </tr>\n",
       "    <tr>\n",
       "      <th>25%</th>\n",
       "      <td>849999.750000</td>\n",
       "      <td>0.279259</td>\n",
       "    </tr>\n",
       "    <tr>\n",
       "      <th>50%</th>\n",
       "      <td>899999.500000</td>\n",
       "      <td>0.435863</td>\n",
       "    </tr>\n",
       "    <tr>\n",
       "      <th>75%</th>\n",
       "      <td>949999.250000</td>\n",
       "      <td>0.594709</td>\n",
       "    </tr>\n",
       "    <tr>\n",
       "      <th>max</th>\n",
       "      <td>999999.000000</td>\n",
       "      <td>0.962894</td>\n",
       "    </tr>\n",
       "  </tbody>\n",
       "</table>\n",
       "</div>"
      ],
      "text/plain": [
       "                  id      isDefault\n",
       "count  200000.000000  200000.000000\n",
       "mean   899999.500000       0.439803\n",
       "std     57735.171256       0.205587\n",
       "min    800000.000000       0.002141\n",
       "25%    849999.750000       0.279259\n",
       "50%    899999.500000       0.435863\n",
       "75%    949999.250000       0.594709\n",
       "max    999999.000000       0.962894"
      ]
     },
     "execution_count": 33,
     "metadata": {},
     "output_type": "execute_result"
    }
   ],
   "source": [
    "df_result.describe()"
   ]
  },
  {
   "cell_type": "code",
   "execution_count": null,
   "metadata": {
    "uuid": "0be1705c-2aae-41d6-bf7f-4c33befab82c"
   },
   "outputs": [],
   "source": []
  },
  {
   "cell_type": "code",
   "execution_count": 42,
   "metadata": {
    "uuid": "6aa23182-dd09-456c-ac9f-c37edce1e0d0"
   },
   "outputs": [],
   "source": [
    "num_cols = [2,9,14]\n",
    "for data in [data_train,data_test_a]:\n",
    "#     for i in num_cols:\n",
    "#         for j in num_cols:\n",
    "#             data['new'+str(i)+'*'+str(j)]=data['n'+str(i)]*data['n'+str(j)]\n",
    "\n",
    "    for i in num_cols:\n",
    "        for j in num_cols:\n",
    "             data['new'+str(i)+'-'+str(j)]=data['n'+str(i)]-data['n'+str(j)]\n",
    "    for i in num_cols:\n",
    "        for j in num_cols:\n",
    "             data['new'+str(i)+'+'+str(j)]=data['n'+str(i)]+data['n'+str(j)]"
   ]
  },
  {
   "cell_type": "code",
   "execution_count": null,
   "metadata": {
    "uuid": "04afded8-7195-4c1e-84ea-379992ae6f2a"
   },
   "outputs": [],
   "source": []
  },
  {
   "cell_type": "code",
   "execution_count": null,
   "metadata": {
    "uuid": "162f375e-2ccc-4356-a76c-2825f1b79cf3"
   },
   "outputs": [],
   "source": []
  },
  {
   "cell_type": "code",
   "execution_count": null,
   "metadata": {
    "uuid": "94281d4b-bf7a-4c09-b468-ceeb3cff5e50"
   },
   "outputs": [],
   "source": []
  },
  {
   "cell_type": "code",
   "execution_count": null,
   "metadata": {
    "uuid": "d9bfdf15-372f-492b-abcf-d90f56339514"
   },
   "outputs": [],
   "source": []
  },
  {
   "cell_type": "code",
   "execution_count": null,
   "metadata": {
    "uuid": "7497c75a-c0cb-43eb-b418-11513546fced"
   },
   "outputs": [],
   "source": []
  },
  {
   "cell_type": "code",
   "execution_count": 17,
   "metadata": {
    "uuid": "df306750-6f95-4ffa-9e43-d2e13e74090e"
   },
   "outputs": [],
   "source": [
    "import pandas as pd"
   ]
  },
  {
   "cell_type": "code",
   "execution_count": 18,
   "metadata": {
    "uuid": "c4f8f68f-f99c-4dc4-b3ac-8f95b4e50d25"
   },
   "outputs": [],
   "source": [
    "data = pd.read_csv('100.csv')"
   ]
  },
  {
   "cell_type": "code",
   "execution_count": 19,
   "metadata": {
    "uuid": "14e78cef-0bc8-484d-b818-bb8ab4a8263f"
   },
   "outputs": [],
   "source": [
    "data1 = pd.read_csv('71.csv')"
   ]
  },
  {
   "cell_type": "code",
   "execution_count": 20,
   "metadata": {
    "uuid": "548618a7-1673-42a9-ac54-2d6d8e89a7de"
   },
   "outputs": [],
   "source": [
    "data['isDefault'] = 0.8*data['isDefault'] + 0.2*data1['isDefault']"
   ]
  },
  {
   "cell_type": "code",
   "execution_count": 21,
   "metadata": {
    "uuid": "9938f6d0-6a85-4ee6-872b-27ee43dc389c"
   },
   "outputs": [],
   "source": [
    "data.to_csv('jinrong.csv' , index = False)"
   ]
  },
  {
   "cell_type": "code",
   "execution_count": 22,
   "metadata": {
    "uuid": "d67201ef-21db-4564-9122-058a1c55834e"
   },
   "outputs": [
    {
     "data": {
      "text/html": [
       "<div>\n",
       "<style scoped>\n",
       "    .dataframe tbody tr th:only-of-type {\n",
       "        vertical-align: middle;\n",
       "    }\n",
       "\n",
       "    .dataframe tbody tr th {\n",
       "        vertical-align: top;\n",
       "    }\n",
       "\n",
       "    .dataframe thead th {\n",
       "        text-align: right;\n",
       "    }\n",
       "</style>\n",
       "<table border=\"1\" class=\"dataframe\">\n",
       "  <thead>\n",
       "    <tr style=\"text-align: right;\">\n",
       "      <th></th>\n",
       "      <th>id</th>\n",
       "      <th>isDefault</th>\n",
       "    </tr>\n",
       "  </thead>\n",
       "  <tbody>\n",
       "    <tr>\n",
       "      <th>0</th>\n",
       "      <td>800000</td>\n",
       "      <td>0.198582</td>\n",
       "    </tr>\n",
       "    <tr>\n",
       "      <th>1</th>\n",
       "      <td>800001</td>\n",
       "      <td>0.567668</td>\n",
       "    </tr>\n",
       "    <tr>\n",
       "      <th>2</th>\n",
       "      <td>800002</td>\n",
       "      <td>0.755440</td>\n",
       "    </tr>\n",
       "    <tr>\n",
       "      <th>3</th>\n",
       "      <td>800003</td>\n",
       "      <td>0.548539</td>\n",
       "    </tr>\n",
       "    <tr>\n",
       "      <th>4</th>\n",
       "      <td>800004</td>\n",
       "      <td>0.661947</td>\n",
       "    </tr>\n",
       "    <tr>\n",
       "      <th>...</th>\n",
       "      <td>...</td>\n",
       "      <td>...</td>\n",
       "    </tr>\n",
       "    <tr>\n",
       "      <th>199995</th>\n",
       "      <td>999995</td>\n",
       "      <td>0.324120</td>\n",
       "    </tr>\n",
       "    <tr>\n",
       "      <th>199996</th>\n",
       "      <td>999996</td>\n",
       "      <td>0.114072</td>\n",
       "    </tr>\n",
       "    <tr>\n",
       "      <th>199997</th>\n",
       "      <td>999997</td>\n",
       "      <td>0.375047</td>\n",
       "    </tr>\n",
       "    <tr>\n",
       "      <th>199998</th>\n",
       "      <td>999998</td>\n",
       "      <td>0.535567</td>\n",
       "    </tr>\n",
       "    <tr>\n",
       "      <th>199999</th>\n",
       "      <td>999999</td>\n",
       "      <td>0.041339</td>\n",
       "    </tr>\n",
       "  </tbody>\n",
       "</table>\n",
       "<p>200000 rows × 2 columns</p>\n",
       "</div>"
      ],
      "text/plain": [
       "            id  isDefault\n",
       "0       800000   0.198582\n",
       "1       800001   0.567668\n",
       "2       800002   0.755440\n",
       "3       800003   0.548539\n",
       "4       800004   0.661947\n",
       "...        ...        ...\n",
       "199995  999995   0.324120\n",
       "199996  999996   0.114072\n",
       "199997  999997   0.375047\n",
       "199998  999998   0.535567\n",
       "199999  999999   0.041339\n",
       "\n",
       "[200000 rows x 2 columns]"
      ]
     },
     "execution_count": 22,
     "metadata": {},
     "output_type": "execute_result"
    }
   ],
   "source": [
    "data"
   ]
  },
  {
   "cell_type": "code",
   "execution_count": null,
   "metadata": {
    "uuid": "c35dfe1e-466e-4c62-83e8-396412c683f6"
   },
   "outputs": [],
   "source": []
  }
 ],
 "metadata": {
  "kernelspec": {
   "display_name": "Python 3",
   "language": "python",
   "name": "python3"
  },
  "language_info": {
   "codemirror_mode": {
    "name": "ipython",
    "version": 3
   },
   "file_extension": ".py",
   "mimetype": "text/x-python",
   "name": "python",
   "nbconvert_exporter": "python",
   "pygments_lexer": "ipython3",
   "version": "3.7.3"
  }
 },
 "nbformat": 4,
 "nbformat_minor": 4
}
